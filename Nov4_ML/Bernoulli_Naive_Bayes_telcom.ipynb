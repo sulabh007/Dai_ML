{
 "cells": [
  {
   "cell_type": "code",
   "execution_count": 7,
   "metadata": {},
   "outputs": [],
   "source": [
    "import pandas as pd\n",
    "import numpy as np\n",
    "from sklearn.naive_bayes import BernoulliNB\n",
    "from sklearn.metrics import confusion_matrix\n",
    "from sklearn.metrics import classification_report, accuracy_score\n",
    "from sklearn.model_selection import train_test_split"
   ]
  },
  {
   "cell_type": "code",
   "execution_count": 8,
   "metadata": {},
   "outputs": [],
   "source": [
    "telecom = pd.read_csv('Telecom.csv')\n",
    "dum_tel = pd.get_dummies(telecom, drop_first=True)\n",
    "\n",
    "\n",
    "X = dum_tel.drop('Response_Y', axis=1)\n",
    "y = dum_tel['Response_Y']\n",
    "X_train, X_test, y_train, y_test = train_test_split(X, y, test_size=0.3, random_state=2021)"
   ]
  },
  {
   "cell_type": "code",
   "execution_count": 9,
   "metadata": {},
   "outputs": [
    {
     "name": "stdout",
     "output_type": "stream",
     "text": [
      "[[13 12]\n",
      " [ 3 17]]\n",
      "              precision    recall  f1-score   support\n",
      "\n",
      "       False       0.81      0.52      0.63        25\n",
      "        True       0.59      0.85      0.69        20\n",
      "\n",
      "    accuracy                           0.67        45\n",
      "   macro avg       0.70      0.69      0.66        45\n",
      "weighted avg       0.71      0.67      0.66        45\n",
      "\n",
      "0.6666666666666666\n"
     ]
    }
   ],
   "source": [
    "nb = BernoulliNB()\n",
    "nb.fit(X_train, y_train) #Model Building : Apriori Probs Calculated\n",
    "tst = np.array([['n', 'female'],\n",
    "                ['n', 'male'],\n",
    "                ['y', 'male'],\n",
    "                ['y', 'female']])\n",
    "\n",
    "tst = pd.DataFrame(tst, columns= ['TT_gt_100', 'Gender'])\n",
    "\n",
    "dum_tst = pd.get_dummies(tst, drop_first=True)\n",
    "\n",
    "y_prob = nb.predict_proba(X_test) #Posterior Probs Calculated\n",
    "y_pred = nb.predict(X_test) #Applying built to test data\n",
    "\n",
    "print(confusion_matrix(y_test, y_pred))\n",
    "print(classification_report(y_test, y_pred))\n",
    "print(accuracy_score(y_test, y_pred))"
   ]
  },
  {
   "cell_type": "code",
   "execution_count": 11,
   "metadata": {},
   "outputs": [
    {
     "name": "stdout",
     "output_type": "stream",
     "text": [
      "{'alpha': 4.900000000000004}\n",
      "-0.4228118580766681\n"
     ]
    }
   ],
   "source": [
    "\n",
    "from sklearn.model_selection import GridSearchCV, StratifiedKFold\n",
    "\n",
    "\n",
    "kfold=StratifiedKFold(n_splits=5, shuffle=True, random_state=23)\n",
    "\n",
    "alpha = np.arange(1,5,0.1)\n",
    "\n",
    "params = {'alpha':alpha}\n",
    "gcv = GridSearchCV(nb,param_grid=params,cv=kfold,scoring='neg_log_loss')\n",
    "gcv.fit(X,y)\n",
    "print(gcv.best_params_)\n",
    "print(gcv.best_score_)\n",
    "df = pd.DataFrame(gcv.cv_results_)"
   ]
  }
 ],
 "metadata": {
  "kernelspec": {
   "display_name": "base",
   "language": "python",
   "name": "python3"
  },
  "language_info": {
   "codemirror_mode": {
    "name": "ipython",
    "version": 3
   },
   "file_extension": ".py",
   "mimetype": "text/x-python",
   "name": "python",
   "nbconvert_exporter": "python",
   "pygments_lexer": "ipython3",
   "version": "3.11.5"
  }
 },
 "nbformat": 4,
 "nbformat_minor": 2
}
