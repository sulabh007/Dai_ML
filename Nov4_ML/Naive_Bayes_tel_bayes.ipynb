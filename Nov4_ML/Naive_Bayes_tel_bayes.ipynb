{
 "cells": [
  {
   "cell_type": "code",
   "execution_count": 38,
   "metadata": {},
   "outputs": [],
   "source": [
    "import pandas as pd\n",
    "import numpy as np\n",
    "from sklearn.naive_bayes import BernoulliNB"
   ]
  },
  {
   "cell_type": "code",
   "execution_count": 39,
   "metadata": {},
   "outputs": [],
   "source": [
    "tel = pd.read_csv('tel_bayes.csv')\n",
    "dum_tel = pd.get_dummies(tel, drop_first=True)\n",
    "nb = BernoulliNB(alpha=0, force_alpha=True)\n",
    "\n",
    "X = dum_tel[['TT_gt_100_y', 'Gender_male']]\n",
    "y = dum_tel['Response_not bought']"
   ]
  },
  {
   "cell_type": "code",
   "execution_count": 40,
   "metadata": {},
   "outputs": [
    {
     "name": "stdout",
     "output_type": "stream",
     "text": [
      "[[0.31034483 0.68965517]\n",
      " [0.06976744 0.93023256]\n",
      " [0.52941176 0.47058824]\n",
      " [0.87096774 0.12903226]]\n",
      "\n"
     ]
    },
    {
     "data": {
      "text/plain": [
       "array([ True,  True, False, False])"
      ]
     },
     "execution_count": 40,
     "metadata": {},
     "output_type": "execute_result"
    }
   ],
   "source": [
    "nb.fit(X, y) #Calculates apriori probs\n",
    "tst = np.array([['n', 'female'],\n",
    "                ['n', 'male'],\n",
    "                ['y', 'male'],\n",
    "                ['y', 'female']])\n",
    "\n",
    "tst = pd.DataFrame(tst, columns= ['TT_gt_100', 'Gender'])\n",
    "\n",
    "dum_tst = pd.get_dummies(tst, drop_first=True)\n",
    "\n",
    "print(nb.predict_proba(dum_tst)) #calculates posterior probs\n",
    "print()\n",
    "nb.predict(dum_tst)"
   ]
  }
 ],
 "metadata": {
  "kernelspec": {
   "display_name": "base",
   "language": "python",
   "name": "python3"
  },
  "language_info": {
   "codemirror_mode": {
    "name": "ipython",
    "version": 3
   },
   "file_extension": ".py",
   "mimetype": "text/x-python",
   "name": "python",
   "nbconvert_exporter": "python",
   "pygments_lexer": "ipython3",
   "version": "3.11.5"
  }
 },
 "nbformat": 4,
 "nbformat_minor": 2
}
