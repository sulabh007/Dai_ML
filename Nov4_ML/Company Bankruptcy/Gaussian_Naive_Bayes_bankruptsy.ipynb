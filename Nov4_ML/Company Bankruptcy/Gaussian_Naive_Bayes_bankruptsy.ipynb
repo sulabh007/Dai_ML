{
 "cells": [
  {
   "cell_type": "code",
   "execution_count": 4,
   "metadata": {},
   "outputs": [],
   "source": [
    "import pandas as pd\n",
    "import numpy as np\n",
    "from sklearn.naive_bayes import GaussianNB\n",
    "from sklearn.metrics import confusion_matrix\n",
    "from sklearn.metrics import classification_report, accuracy_score\n",
    "from sklearn.model_selection import train_test_split"
   ]
  },
  {
   "cell_type": "code",
   "execution_count": 5,
   "metadata": {},
   "outputs": [],
   "source": [
    "bankruptsy = pd.read_csv('data.csv')"
   ]
  },
  {
   "cell_type": "code",
   "execution_count": 6,
   "metadata": {},
   "outputs": [],
   "source": [
    "bankruptsy = pd.read_csv('data.csv')\n",
    "\n",
    "X = bankruptsy.drop('Bankrupt?', axis=1)\n",
    "y = bankruptsy['Bankrupt?']\n",
    "X_train, X_test, y_train, y_test = train_test_split(X, y, test_size=0.3, random_state=2021)"
   ]
  },
  {
   "cell_type": "code",
   "execution_count": 9,
   "metadata": {},
   "outputs": [
    {
     "name": "stdout",
     "output_type": "stream",
     "text": [
      "[[  96 1880]\n",
      " [   3   67]]\n"
     ]
    },
    {
     "name": "stdout",
     "output_type": "stream",
     "text": [
      "              precision    recall  f1-score   support\n",
      "\n",
      "           0       0.97      0.05      0.09      1976\n",
      "           1       0.03      0.96      0.07        70\n",
      "\n",
      "    accuracy                           0.08      2046\n",
      "   macro avg       0.50      0.50      0.08      2046\n",
      "weighted avg       0.94      0.08      0.09      2046\n",
      "\n",
      "0.07966764418377321\n"
     ]
    }
   ],
   "source": [
    "nb = GaussianNB()\n",
    "nb.fit(X_train, y_train) #Model Building : Apriori Probs Calculated\n",
    "tst = np.array([['n', 'female'],\n",
    "                ['n', 'male'],\n",
    "                ['y', 'male'],\n",
    "                ['y', 'female']])\n",
    "\n",
    "tst = pd.DataFrame(tst, columns= ['TT_gt_100', 'Gender'])\n",
    "\n",
    "dum_tst = pd.get_dummies(tst, drop_first=True)\n",
    "\n",
    "y_prob = nb.predict_proba(X_test) #Posterior Probs Calculated\n",
    "y_pred = nb.predict(X_test) #Applying built to test data\n",
    "\n",
    "print(confusion_matrix(y_test, y_pred))\n",
    "print(classification_report(y_test, y_pred))\n",
    "print(accuracy_score(y_test, y_pred))"
   ]
  },
  {
   "cell_type": "code",
   "execution_count": 21,
   "metadata": {},
   "outputs": [
    {
     "name": "stdout",
     "output_type": "stream",
     "text": [
      "{'var_smoothing': 0.5793684210526315}\n",
      "-0.13903391695943138\n"
     ]
    }
   ],
   "source": [
    "\n",
    "from sklearn.model_selection import GridSearchCV, StratifiedKFold\n",
    "\n",
    "\n",
    "kfold=StratifiedKFold(n_splits=5, shuffle=True, random_state=23)\n",
    "\n",
    "var_smoothing = np.linspace(0.001,1,20)\n",
    "\n",
    "params = {'var_smoothing':var_smoothing}\n",
    "gcv = GridSearchCV(nb,param_grid=params,cv=kfold,scoring='neg_log_loss')\n",
    "gcv.fit(X,y)\n",
    "print(gcv.best_params_)\n",
    "print(gcv.best_score_)\n",
    "df = pd.DataFrame(gcv.cv_results_)"
   ]
  }
 ],
 "metadata": {
  "kernelspec": {
   "display_name": "base",
   "language": "python",
   "name": "python3"
  },
  "language_info": {
   "codemirror_mode": {
    "name": "ipython",
    "version": 3
   },
   "file_extension": ".py",
   "mimetype": "text/x-python",
   "name": "python",
   "nbconvert_exporter": "python",
   "pygments_lexer": "ipython3",
   "version": "3.11.5"
  }
 },
 "nbformat": 4,
 "nbformat_minor": 2
}
