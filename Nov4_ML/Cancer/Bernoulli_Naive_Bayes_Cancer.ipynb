{
 "cells": [
  {
   "cell_type": "code",
   "execution_count": 21,
   "metadata": {},
   "outputs": [],
   "source": [
    "import pandas as pd\n",
    "import numpy as np\n",
    "from sklearn.naive_bayes import BernoulliNB\n",
    "from sklearn.metrics import confusion_matrix\n",
    "from sklearn.metrics import classification_report, accuracy_score\n",
    "from sklearn.model_selection import train_test_split"
   ]
  },
  {
   "cell_type": "code",
   "execution_count": 22,
   "metadata": {},
   "outputs": [],
   "source": [
    "cancer = pd.read_csv('Cancer.csv', index_col=0)\n",
    "#cancer.set_index('subjid', inplace=True)\n",
    "dum_cancer = pd.get_dummies(cancer, drop_first=True)\n",
    "\n",
    "X = dum_cancer.drop('Class_recurrence-events', axis=1)\n",
    "y = dum_cancer['Class_recurrence-events']\n",
    "X_train, X_test, y_train, y_test = train_test_split(X, y, test_size=0.3, random_state=2021)"
   ]
  },
  {
   "cell_type": "code",
   "execution_count": 23,
   "metadata": {},
   "outputs": [
    {
     "name": "stdout",
     "output_type": "stream",
     "text": [
      "[[51 10]\n",
      " [13 12]]\n",
      "              precision    recall  f1-score   support\n",
      "\n",
      "       False       0.80      0.84      0.82        61\n",
      "        True       0.55      0.48      0.51        25\n",
      "\n",
      "    accuracy                           0.73        86\n",
      "   macro avg       0.67      0.66      0.66        86\n",
      "weighted avg       0.72      0.73      0.73        86\n",
      "\n",
      "0.7325581395348837\n"
     ]
    }
   ],
   "source": [
    "nb = BernoulliNB()\n",
    "nb.fit(X_train, y_train) #Model Building : Apriori Probs Calculated\n",
    "\n",
    "y_prob = nb.predict_proba(X_test) #Posterior Probs Calculated\n",
    "y_pred = nb.predict(X_test) #Applying built to test data\n",
    "\n",
    "print(confusion_matrix(y_test, y_pred))\n",
    "print(classification_report(y_test, y_pred))\n",
    "print(accuracy_score(y_test, y_pred))"
   ]
  },
  {
   "cell_type": "code",
   "execution_count": 29,
   "metadata": {},
   "outputs": [
    {
     "name": "stdout",
     "output_type": "stream",
     "text": [
      "{'alpha': 4.800000000000003}\n",
      "-0.6010534574454971\n"
     ]
    }
   ],
   "source": [
    "\n",
    "from sklearn.model_selection import GridSearchCV, StratifiedKFold\n",
    "\n",
    "\n",
    "kfold=StratifiedKFold(n_splits=5, shuffle=True, random_state=23)\n",
    "\n",
    "alpha = np.arange(1,5,0.1) #alpha = np.linspace(0,5,20)\n",
    "params = {'alpha':alpha}\n",
    "gcv = GridSearchCV(nb,param_grid=params,cv=kfold,scoring='neg_log_loss')\n",
    "gcv.fit(X,y)\n",
    "print(gcv.best_params_)\n",
    "print(gcv.best_score_)\n",
    "df = pd.DataFrame(gcv.cv_results_)"
   ]
  },
  {
   "cell_type": "code",
   "execution_count": 31,
   "metadata": {},
   "outputs": [
    {
     "name": "stdout",
     "output_type": "stream",
     "text": [
      "{'alpha': 1.6000000000000005}\n",
      "0.7551724137931035\n"
     ]
    }
   ],
   "source": [
    "\n",
    "from sklearn.model_selection import GridSearchCV, StratifiedKFold\n",
    "\n",
    "\n",
    "kfold=StratifiedKFold(n_splits=5, shuffle=True, random_state=23)\n",
    "\n",
    "alpha = np.arange(1,5,0.1) #alpha = np.linspace(0,5,20)\n",
    "params = {'alpha':alpha}\n",
    "gcv = GridSearchCV(nb,param_grid=params,cv=kfold,scoring='accuracy')\n",
    "gcv.fit(X,y)\n",
    "print(gcv.best_params_)\n",
    "print(gcv.best_score_)\n",
    "df = pd.DataFrame(gcv.cv_results_)"
   ]
  }
 ],
 "metadata": {
  "kernelspec": {
   "display_name": "base",
   "language": "python",
   "name": "python3"
  },
  "language_info": {
   "codemirror_mode": {
    "name": "ipython",
    "version": 3
   },
   "file_extension": ".py",
   "mimetype": "text/x-python",
   "name": "python",
   "nbconvert_exporter": "python",
   "pygments_lexer": "ipython3",
   "version": "3.11.5"
  }
 },
 "nbformat": 4,
 "nbformat_minor": 2
}
