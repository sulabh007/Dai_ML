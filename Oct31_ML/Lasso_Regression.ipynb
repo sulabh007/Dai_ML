{
 "cells": [
  {
   "cell_type": "code",
   "execution_count": 1,
   "metadata": {},
   "outputs": [],
   "source": [
    "from sklearn.model_selection import train_test_split\n",
    "from sklearn.linear_model import Lasso\n",
    "from sklearn.metrics import mean_squared_error\n",
    "import numpy as np\n",
    "import pandas as pd"
   ]
  },
  {
   "cell_type": "code",
   "execution_count": 2,
   "metadata": {},
   "outputs": [],
   "source": [
    "boston = pd.read_csv(\"Boston.csv\")"
   ]
  },
  {
   "cell_type": "code",
   "execution_count": null,
   "metadata": {},
   "outputs": [],
   "source": []
  },
  {
   "cell_type": "code",
   "execution_count": 3,
   "metadata": {
    "notebookRunGroups": {
     "groupValue": ""
    }
   },
   "outputs": [],
   "source": [
    "x = boston.drop('medv',axis=1)\n",
    "y = boston['medv']"
   ]
  },
  {
   "cell_type": "code",
   "execution_count": 4,
   "metadata": {},
   "outputs": [],
   "source": [
    "train, test = train_test_split(boston, test_size=0.3, random_state=23)\n",
    "\n",
    "X_train = train.drop('medv',axis=1)\n",
    "y_train =train['medv']\n",
    "X_test = test.drop('medv',axis=1)\n",
    "y_test= test['medv']"
   ]
  },
  {
   "cell_type": "code",
   "execution_count": 5,
   "metadata": {},
   "outputs": [
    {
     "name": "stdout",
     "output_type": "stream",
     "text": [
      "for alpha = 0.1 \n",
      " 26.02760641642854\n",
      "for alpha = 0.5 \n",
      " 26.028318310307192\n",
      "for alpha = 1 \n",
      " 28.888749212797446\n",
      "for alpha = 2 \n",
      " 34.844507072693226\n",
      "for alpha = 2.5 \n",
      " 36.29553467631803\n",
      "for alpha = 3 \n",
      " 37.72700114143434\n",
      "Best Score: 26.02760641642854\n",
      "Best Parameter: 0.1\n"
     ]
    }
   ],
   "source": [
    "params = [0.1, 0.5, 1, 2, 2.5, 3]\n",
    "errors = []\n",
    "for i in params:\n",
    "    lasso = Lasso(alpha=i)\n",
    "    lasso.fit(X_train,y_train)\n",
    "    y_pred = lasso.predict(X_test)\n",
    "    errors.append(mean_squared_error(y_test,y_pred))\n",
    "    print(\"for alpha =\",i,\"\\n\",mean_squared_error(y_test,y_pred))\n",
    "    \n",
    "print(\"Best Score:\",np.min(errors))\n",
    "i_min = np.argmin(errors)\n",
    "print(\"Best Parameter:\",params[i_min])"
   ]
  },
  {
   "cell_type": "code",
   "execution_count": null,
   "metadata": {},
   "outputs": [],
   "source": []
  }
 ],
 "metadata": {
  "kernelspec": {
   "display_name": "base",
   "language": "python",
   "name": "python3"
  },
  "language_info": {
   "codemirror_mode": {
    "name": "ipython",
    "version": 3
   },
   "file_extension": ".py",
   "mimetype": "text/x-python",
   "name": "python",
   "nbconvert_exporter": "python",
   "pygments_lexer": "ipython3",
   "version": "3.11.5"
  }
 },
 "nbformat": 4,
 "nbformat_minor": 2
}
