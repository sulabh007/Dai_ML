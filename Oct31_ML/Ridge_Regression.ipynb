{
 "cells": [
  {
   "cell_type": "code",
   "execution_count": 17,
   "metadata": {},
   "outputs": [],
   "source": [
    "from sklearn.model_selection import train_test_split\n",
    "from sklearn.linear_model import Ridge\n",
    "from sklearn.metrics import mean_squared_error\n",
    "import numpy as np\n",
    "import pandas as pd"
   ]
  },
  {
   "cell_type": "code",
   "execution_count": 18,
   "metadata": {},
   "outputs": [],
   "source": [
    "boston = pd.read_csv(\"Boston.csv\")"
   ]
  },
  {
   "cell_type": "code",
   "execution_count": null,
   "metadata": {},
   "outputs": [],
   "source": []
  },
  {
   "cell_type": "code",
   "execution_count": 19,
   "metadata": {
    "notebookRunGroups": {
     "groupValue": ""
    }
   },
   "outputs": [],
   "source": [
    "x = boston.drop('medv',axis=1)\n",
    "y = boston['medv']"
   ]
  },
  {
   "cell_type": "code",
   "execution_count": 20,
   "metadata": {},
   "outputs": [],
   "source": [
    "train, test = train_test_split(boston, test_size=0.3, random_state=23)\n",
    "\n",
    "X_train = train.drop('medv',axis=1)\n",
    "y_train =train['medv']\n",
    "X_test = test.drop('medv',axis=1)\n",
    "y_test= test['medv']"
   ]
  },
  {
   "cell_type": "code",
   "execution_count": 22,
   "metadata": {},
   "outputs": [
    {
     "name": "stdout",
     "output_type": "stream",
     "text": [
      "for alpha = 0.1 \n",
      " 25.38203639719029\n",
      "for alpha = 0.5 \n",
      " 25.51102170316692\n",
      "for alpha = 1 \n",
      " 25.647900623108608\n",
      "for alpha = 2 \n",
      " 25.802597851870264\n",
      "for alpha = 2.5 \n",
      " 25.842482328893436\n",
      "for alpha = 3 \n",
      " 25.86766999255288\n",
      "Best Score: 25.38203639719029\n",
      "Best Parameter: 0.1\n"
     ]
    }
   ],
   "source": [
    "params = [0.1, 0.5, 1, 2, 2.5, 3]\n",
    "errors = []\n",
    "for i in params:\n",
    "    ridge = Ridge(alpha=i)\n",
    "    ridge.fit(X_train,y_train)\n",
    "    y_pred = ridge.predict(X_test)\n",
    "    errors.append(mean_squared_error(y_test,y_pred))\n",
    "    print(\"for alpha =\",i,\"\\n\",mean_squared_error(y_test,y_pred))\n",
    "    \n",
    "print(\"Best Score:\",np.min(errors))\n",
    "i_min = np.argmin(errors)\n",
    "print(\"Best Parameter:\",params[i_min])"
   ]
  },
  {
   "cell_type": "code",
   "execution_count": null,
   "metadata": {},
   "outputs": [],
   "source": []
  }
 ],
 "metadata": {
  "kernelspec": {
   "display_name": "base",
   "language": "python",
   "name": "python3"
  },
  "language_info": {
   "codemirror_mode": {
    "name": "ipython",
    "version": 3
   },
   "file_extension": ".py",
   "mimetype": "text/x-python",
   "name": "python",
   "nbconvert_exporter": "python",
   "pygments_lexer": "ipython3",
   "version": "3.11.5"
  }
 },
 "nbformat": 4,
 "nbformat_minor": 2
}
