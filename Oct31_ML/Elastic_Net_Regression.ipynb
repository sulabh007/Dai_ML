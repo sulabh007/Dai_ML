{
 "cells": [
  {
   "cell_type": "code",
   "execution_count": 6,
   "metadata": {},
   "outputs": [],
   "source": [
    "from sklearn.model_selection import train_test_split\n",
    "from sklearn.linear_model import ElasticNet\n",
    "from sklearn.metrics import mean_squared_error\n",
    "import numpy as np\n",
    "import pandas as pd"
   ]
  },
  {
   "cell_type": "code",
   "execution_count": 7,
   "metadata": {},
   "outputs": [],
   "source": [
    "boston = pd.read_csv(\"Boston.csv\")"
   ]
  },
  {
   "cell_type": "code",
   "execution_count": null,
   "metadata": {},
   "outputs": [],
   "source": []
  },
  {
   "cell_type": "code",
   "execution_count": 8,
   "metadata": {
    "notebookRunGroups": {
     "groupValue": ""
    }
   },
   "outputs": [],
   "source": [
    "x = boston.drop('medv',axis=1)\n",
    "y = boston['medv']"
   ]
  },
  {
   "cell_type": "code",
   "execution_count": 9,
   "metadata": {},
   "outputs": [],
   "source": [
    "train, test = train_test_split(boston, test_size=0.3, random_state=23)\n",
    "\n",
    "X_train = train.drop('medv',axis=1)\n",
    "y_train =train['medv']\n",
    "X_test = test.drop('medv',axis=1)\n",
    "y_test= test['medv']"
   ]
  },
  {
   "cell_type": "code",
   "execution_count": 14,
   "metadata": {},
   "outputs": [],
   "source": [
    "from sklearn.metrics import mean_squared_error as mse"
   ]
  },
  {
   "cell_type": "code",
   "execution_count": 17,
   "metadata": {},
   "outputs": [
    {
     "name": "stdout",
     "output_type": "stream",
     "text": [
      "for alpha = 0.1 and l1 raito = 0.1 \n",
      " 25.55922964339435\n",
      "for alpha = 0.1 and l1 raito = 0.25 \n",
      " 25.592089954644155\n",
      "for alpha = 0.1 and l1 raito = 0.5 \n",
      " 25.688602748642943\n",
      "for alpha = 0.1 and l1 raito = 0.8 \n",
      " 25.84121349030307\n",
      "for alpha = 0.1 and l1 raito = 0.9 \n",
      " 25.92304594450137\n",
      "for alpha = 0.5 and l1 raito = 0.1 \n",
      " 26.741802170215244\n",
      "for alpha = 0.5 and l1 raito = 0.25 \n",
      " 26.67978162255095\n",
      "for alpha = 0.5 and l1 raito = 0.5 \n",
      " 26.540804055188676\n",
      "for alpha = 0.5 and l1 raito = 0.8 \n",
      " 26.267649643885605\n",
      "for alpha = 0.5 and l1 raito = 0.9 \n",
      " 26.147784981817836\n",
      "for alpha = 1 and l1 raito = 0.1 \n",
      " 28.07251997675742\n",
      "for alpha = 1 and l1 raito = 0.25 \n",
      " 28.16479859819996\n",
      "for alpha = 1 and l1 raito = 0.5 \n",
      " 28.34945977955968\n",
      "for alpha = 1 and l1 raito = 0.8 \n",
      " 28.643561505517578\n",
      "for alpha = 1 and l1 raito = 0.9 \n",
      " 28.761214777590382\n",
      "for alpha = 2 and l1 raito = 0.1 \n",
      " 29.896720648790854\n",
      "for alpha = 2 and l1 raito = 0.25 \n",
      " 30.36421833823506\n",
      "for alpha = 2 and l1 raito = 0.5 \n",
      " 31.512857048062624\n",
      "for alpha = 2 and l1 raito = 0.8 \n",
      " 33.429464855195455\n",
      "for alpha = 2 and l1 raito = 0.9 \n",
      " 34.05867763427675\n",
      "for alpha = 2.5 and l1 raito = 0.1 \n",
      " 30.61296303033465\n",
      "for alpha = 2.5 and l1 raito = 0.25 \n",
      " 31.27147250226353\n",
      "for alpha = 2.5 and l1 raito = 0.5 \n",
      " 32.917027788346765\n",
      "for alpha = 2.5 and l1 raito = 0.8 \n",
      " 35.19978209938148\n",
      "for alpha = 2.5 and l1 raito = 0.9 \n",
      " 35.826966296959164\n",
      "for alpha = 3 and l1 raito = 0.1 \n",
      " 31.252973411776537\n",
      "for alpha = 3 and l1 raito = 0.25 \n",
      " 32.09909082005552\n",
      "for alpha = 3 and l1 raito = 0.5 \n",
      " 34.133752305820714\n",
      "for alpha = 3 and l1 raito = 0.8 \n",
      " 36.48224409985394\n",
      "for alpha = 3 and l1 raito = 0.9 \n",
      " 37.04605199544732\n",
      "Best Score: 25.55922964339435\n",
      "Best Parameter: 0.1\n"
     ]
    }
   ],
   "source": [
    "alpha = [0.1, 0.5, 1, 2, 2.5, 3]\n",
    "l1_rat = [0.1, 0.25, 0.5, 0.8,0.9 ]\n",
    "errors = []\n",
    "for a in alpha:\n",
    "    for l in l1_rat:\n",
    "        elastic = ElasticNet(alpha=a,l1_ratio=l)\n",
    "        elastic.fit(X_train,y_train)\n",
    "        y_pred = elastic.predict(X_test)\n",
    "        errors.append(mean_squared_error(y_test,y_pred))\n",
    "        print(\"for alpha =\",a,\"and l1 raito =\",l,\"\\n\",mean_squared_error(y_test,y_pred))\n",
    "    \n",
    "print(\"Best Score:\",np.min(errors))\n",
    "i_min = np.argmin(errors)\n",
    "print(\"Best Parameter:\",alpha[i_min])"
   ]
  },
  {
   "cell_type": "code",
   "execution_count": 21,
   "metadata": {},
   "outputs": [
    {
     "name": "stdout",
     "output_type": "stream",
     "text": [
      "for alpha = 0.1 and l1 raito = 0.1 \n",
      " 25.55922964339435\n",
      "for alpha = 0.1 and l1 raito = 0.25 \n",
      " 25.592089954644155\n",
      "for alpha = 0.1 and l1 raito = 0.5 \n",
      " 25.688602748642943\n",
      "for alpha = 0.1 and l1 raito = 0.8 \n",
      " 25.84121349030307\n",
      "for alpha = 0.1 and l1 raito = 0.9 \n",
      " 25.92304594450137\n",
      "for alpha = 0.5 and l1 raito = 0.1 \n",
      " 26.741802170215244\n",
      "for alpha = 0.5 and l1 raito = 0.25 \n",
      " 26.67978162255095\n",
      "for alpha = 0.5 and l1 raito = 0.5 \n",
      " 26.540804055188676\n",
      "for alpha = 0.5 and l1 raito = 0.8 \n",
      " 26.267649643885605\n",
      "for alpha = 0.5 and l1 raito = 0.9 \n",
      " 26.147784981817836\n",
      "for alpha = 1 and l1 raito = 0.1 \n",
      " 28.07251997675742\n",
      "for alpha = 1 and l1 raito = 0.25 \n",
      " 28.16479859819996\n",
      "for alpha = 1 and l1 raito = 0.5 \n",
      " 28.34945977955968\n",
      "for alpha = 1 and l1 raito = 0.8 \n",
      " 28.643561505517578\n",
      "for alpha = 1 and l1 raito = 0.9 \n",
      " 28.761214777590382\n",
      "for alpha = 2 and l1 raito = 0.1 \n",
      " 29.896720648790854\n",
      "for alpha = 2 and l1 raito = 0.25 \n",
      " 30.36421833823506\n",
      "for alpha = 2 and l1 raito = 0.5 \n",
      " 31.512857048062624\n",
      "for alpha = 2 and l1 raito = 0.8 \n",
      " 33.429464855195455\n",
      "for alpha = 2 and l1 raito = 0.9 \n",
      " 34.05867763427675\n",
      "for alpha = 2.5 and l1 raito = 0.1 \n",
      " 30.61296303033465\n",
      "for alpha = 2.5 and l1 raito = 0.25 \n",
      " 31.27147250226353\n",
      "for alpha = 2.5 and l1 raito = 0.5 \n",
      " 32.917027788346765\n",
      "for alpha = 2.5 and l1 raito = 0.8 \n",
      " 35.19978209938148\n",
      "for alpha = 2.5 and l1 raito = 0.9 \n",
      " 35.826966296959164\n",
      "for alpha = 3 and l1 raito = 0.1 \n",
      " 31.252973411776537\n",
      "for alpha = 3 and l1 raito = 0.25 \n",
      " 32.09909082005552\n",
      "for alpha = 3 and l1 raito = 0.5 \n",
      " 34.133752305820714\n",
      "for alpha = 3 and l1 raito = 0.8 \n",
      " 36.48224409985394\n",
      "for alpha = 3 and l1 raito = 0.9 \n",
      " 37.04605199544732\n",
      "\n"
     ]
    },
    {
     "data": {
      "text/plain": [
       "<bound method Series.sort_values of alpha = 0.1,l1_ratio = 0.1     25.559230\n",
       "alpha = 0.1,l1_ratio = 0.25    25.592090\n",
       "alpha = 0.1,l1_ratio = 0.5     25.688603\n",
       "alpha = 0.1,l1_ratio = 0.8     25.841213\n",
       "alpha = 0.1,l1_ratio = 0.9     25.923046\n",
       "alpha = 0.5,l1_ratio = 0.1     26.741802\n",
       "alpha = 0.5,l1_ratio = 0.25    26.679782\n",
       "alpha = 0.5,l1_ratio = 0.5     26.540804\n",
       "alpha = 0.5,l1_ratio = 0.8     26.267650\n",
       "alpha = 0.5,l1_ratio = 0.9     26.147785\n",
       "alpha = 1,l1_ratio = 0.1       28.072520\n",
       "alpha = 1,l1_ratio = 0.25      28.164799\n",
       "alpha = 1,l1_ratio = 0.5       28.349460\n",
       "alpha = 1,l1_ratio = 0.8       28.643562\n",
       "alpha = 1,l1_ratio = 0.9       28.761215\n",
       "alpha = 2,l1_ratio = 0.1       29.896721\n",
       "alpha = 2,l1_ratio = 0.25      30.364218\n",
       "alpha = 2,l1_ratio = 0.5       31.512857\n",
       "alpha = 2,l1_ratio = 0.8       33.429465\n",
       "alpha = 2,l1_ratio = 0.9       34.058678\n",
       "alpha = 2.5,l1_ratio = 0.1     30.612963\n",
       "alpha = 2.5,l1_ratio = 0.25    31.271473\n",
       "alpha = 2.5,l1_ratio = 0.5     32.917028\n",
       "alpha = 2.5,l1_ratio = 0.8     35.199782\n",
       "alpha = 2.5,l1_ratio = 0.9     35.826966\n",
       "alpha = 3,l1_ratio = 0.1       31.252973\n",
       "alpha = 3,l1_ratio = 0.25      32.099091\n",
       "alpha = 3,l1_ratio = 0.5       34.133752\n",
       "alpha = 3,l1_ratio = 0.8       36.482244\n",
       "alpha = 3,l1_ratio = 0.9       37.046052\n",
       "dtype: float64>"
      ]
     },
     "execution_count": 21,
     "metadata": {},
     "output_type": "execute_result"
    }
   ],
   "source": [
    "alpha = [0.1, 0.5, 1, 2, 2.5, 3]\n",
    "l1_rat = [0.1, 0.25, 0.5, 0.8,0.9 ]\n",
    "errors = dict()\n",
    "for a in alpha:\n",
    "    for l in l1_rat:\n",
    "        elastic = ElasticNet(alpha=a,l1_ratio=l)\n",
    "        elastic.fit(X_train,y_train)\n",
    "        y_pred = elastic.predict(X_test)\n",
    "        errors['alpha = '+str(a)+\",l1_ratio = \"+ str(l)]=mse(y_test,y_pred)\n",
    "        print(\"for alpha =\",a,\"and l1 raito =\",l,\"\\n\",mean_squared_error(y_test,y_pred))\n",
    "\n",
    "print()\n",
    "er_pd=pd.Series(errors)\n",
    "er_pd.sort_values"
   ]
  }
 ],
 "metadata": {
  "kernelspec": {
   "display_name": "base",
   "language": "python",
   "name": "python3"
  },
  "language_info": {
   "codemirror_mode": {
    "name": "ipython",
    "version": 3
   },
   "file_extension": ".py",
   "mimetype": "text/x-python",
   "name": "python",
   "nbconvert_exporter": "python",
   "pygments_lexer": "ipython3",
   "version": "3.11.4"
  }
 },
 "nbformat": 4,
 "nbformat_minor": 2
}
