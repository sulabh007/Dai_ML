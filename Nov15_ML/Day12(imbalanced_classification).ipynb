{
 "cells": [
  {
   "cell_type": "code",
   "execution_count": 27,
   "metadata": {},
   "outputs": [],
   "source": [
    "import pandas as pd\n",
    "import numpy as np\n",
    "from sklearn.model_selection import train_test_split\n",
    "from sklearn.metrics import accuracy_score\n"
   ]
  },
  {
   "cell_type": "code",
   "execution_count": 36,
   "metadata": {},
   "outputs": [],
   "source": [
    "data = pd.read_csv(\"Datasets/Bankcruptdata.csv\")"
   ]
  },
  {
   "cell_type": "code",
   "execution_count": 37,
   "metadata": {},
   "outputs": [
    {
     "name": "stdout",
     "output_type": "stream",
     "text": [
      "Bankrupt?\n",
      "0    6599\n",
      "1     220\n",
      "Name: count, dtype: int64\n",
      "Bankrupt?\n",
      "0    96.77372\n",
      "1     3.22628\n",
      "Name: proportion, dtype: float64\n"
     ]
    }
   ],
   "source": [
    "X = data.drop(\"Bankrupt?\",axis=1)\n",
    "y = data['Bankrupt?']\n",
    "print(y.value_counts())\n",
    "print(y.value_counts(normalize=True)*100)"
   ]
  },
  {
   "cell_type": "code",
   "execution_count": 38,
   "metadata": {},
   "outputs": [
    {
     "name": "stdout",
     "output_type": "stream",
     "text": [
      "Bankrupt?\n",
      "0    220\n",
      "1    220\n",
      "Name: count, dtype: int64\n",
      "Bankrupt?\n",
      "0    50.0\n",
      "1    50.0\n",
      "Name: proportion, dtype: float64\n"
     ]
    }
   ],
   "source": [
    "# underSampling\n",
    "from imblearn.under_sampling import RandomUnderSampler\n",
    "under_sampler = RandomUnderSampler(random_state=23)\n",
    "X_us,y_us = under_sampler.fit_resample(X,y)\n",
    "print(y_us.value_counts())\n",
    "print(y_us.value_counts(normalize=True)*100)"
   ]
  },
  {
   "cell_type": "code",
   "execution_count": 39,
   "metadata": {},
   "outputs": [
    {
     "name": "stdout",
     "output_type": "stream",
     "text": [
      "Bankrupt?\n",
      "1    6599\n",
      "0    6599\n",
      "Name: count, dtype: int64\n",
      "Bankrupt?\n",
      "1    50.0\n",
      "0    50.0\n",
      "Name: proportion, dtype: float64\n"
     ]
    }
   ],
   "source": [
    "#OverSampling\n",
    "from imblearn.over_sampling import RandomOverSampler\n",
    "over_sampler = RandomOverSampler(random_state=23)\n",
    "X_os,y_os = over_sampler.fit_resample(X,y)\n",
    "print(y_os.value_counts())\n",
    "print(y_os.value_counts(normalize=True)*100)"
   ]
  },
  {
   "cell_type": "code",
   "execution_count": 40,
   "metadata": {},
   "outputs": [
    {
     "name": "stdout",
     "output_type": "stream",
     "text": [
      "Bankrupt?\n",
      "1    6599\n",
      "0    6599\n",
      "Name: count, dtype: int64\n",
      "Bankrupt?\n",
      "1    50.0\n",
      "0    50.0\n",
      "Name: proportion, dtype: float64\n"
     ]
    }
   ],
   "source": [
    "#synthetic minority oversampling technique for estimation\n",
    "from imblearn.over_sampling import SMOTE\n",
    "smote_sampler = SMOTE(random_state=23)\n",
    "X_smote,y_smote = smote_sampler.fit_resample(X,y)\n",
    "print(y_smote.value_counts())\n",
    "print(y_smote.value_counts(normalize=True)*100)"
   ]
  },
  {
   "cell_type": "code",
   "execution_count": 41,
   "metadata": {},
   "outputs": [
    {
     "name": "stdout",
     "output_type": "stream",
     "text": [
      "Bankrupt?\n",
      "0    6599\n",
      "1    3726\n",
      "Name: count, dtype: int64\n",
      "Bankrupt?\n",
      "0    63.912833\n",
      "1    36.087167\n",
      "Name: proportion, dtype: float64\n"
     ]
    }
   ],
   "source": [
    "#SVM-SMOTE\n",
    "from imblearn.over_sampling import SVMSMOTE\n",
    "svm_smote_sampler = SVMSMOTE(random_state=23)\n",
    "X_svm_smote,y_svm_smote = svm_smote_sampler.fit_resample(X,y)\n",
    "print(y_svm_smote.value_counts())\n",
    "print(y_svm_smote.value_counts(normalize=True)*100)"
   ]
  },
  {
   "cell_type": "code",
   "execution_count": 42,
   "metadata": {},
   "outputs": [
    {
     "name": "stdout",
     "output_type": "stream",
     "text": [
      "Bankrupt?\n",
      "0    6599\n",
      "1    6523\n",
      "Name: count, dtype: int64\n",
      "Bankrupt?\n",
      "0    50.28959\n",
      "1    49.71041\n",
      "Name: proportion, dtype: float64\n"
     ]
    }
   ],
   "source": [
    "#Adasyn\n",
    "from imblearn.over_sampling import ADASYN\n",
    "adasyn_sampler =ADASYN(random_state=23)\n",
    "X_adasyn,y_adasyn = adasyn_sampler.fit_resample(X,y)\n",
    "print(y_adasyn.value_counts())\n",
    "print(y_adasyn.value_counts(normalize=True)*100)"
   ]
  },
  {
   "cell_type": "code",
   "execution_count": 44,
   "metadata": {},
   "outputs": [
    {
     "name": "stdout",
     "output_type": "stream",
     "text": [
      "Cross val score using undersampling: 0.875\n",
      "Cross val score using oversampling: 0.9919690367104159\n",
      "Cross val score using SMOTE: 0.9748463605360158\n",
      "Cross val score using SVM_SMOTE: 0.9716222760290558\n",
      "Cross val score using ADASYN: 0.9616693089430894\n"
     ]
    }
   ],
   "source": [
    "from sklearn.ensemble import RandomForestClassifier\n",
    "from sklearn.model_selection import cross_val_score\n",
    "#undersampling\n",
    "rfc = RandomForestClassifier(random_state=23)\n",
    "print(\"Cross val score using undersampling:\",cross_val_score(rfc,X_us,y_us).mean())\n",
    "print(\"Cross val score using oversampling:\",cross_val_score(rfc,X_os,y_os).mean())\n",
    "print(\"Cross val score using SMOTE:\",cross_val_score(rfc,X_smote,y_smote).mean())\n",
    "print(\"Cross val score using SVM_SMOTE:\",cross_val_score(rfc,X_svm_smote,y_svm_smote).mean())\n",
    "print(\"Cross val score using ADASYN:\",cross_val_score(rfc,X_adasyn,y_adasyn).mean())\n"
   ]
  },
  {
   "cell_type": "code",
   "execution_count": null,
   "metadata": {},
   "outputs": [],
   "source": []
  }
 ],
 "metadata": {
  "kernelspec": {
   "display_name": "base",
   "language": "python",
   "name": "python3"
  },
  "language_info": {
   "codemirror_mode": {
    "name": "ipython",
    "version": 3
   },
   "file_extension": ".py",
   "mimetype": "text/x-python",
   "name": "python",
   "nbconvert_exporter": "python",
   "pygments_lexer": "ipython3",
   "version": "3.11.5"
  }
 },
 "nbformat": 4,
 "nbformat_minor": 2
}
