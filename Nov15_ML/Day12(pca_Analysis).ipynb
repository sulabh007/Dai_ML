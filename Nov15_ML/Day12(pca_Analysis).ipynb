{
 "cells": [
  {
   "cell_type": "markdown",
   "metadata": {},
   "source": [
    "# PCA Breast Cancer"
   ]
  },
  {
   "cell_type": "code",
   "execution_count": 9,
   "metadata": {},
   "outputs": [],
   "source": [
    "import numpy as np \n",
    "import pandas as pd\n",
    "from sklearn.svm import SVC\n",
    "from sklearn.preprocessing import StandardScaler,LabelEncoder\n",
    "from sklearn.model_selection import train_test_split\n",
    "from sklearn.metrics import accuracy_score\n",
    "from sklearn.decomposition import PCA"
   ]
  },
  {
   "cell_type": "code",
   "execution_count": 10,
   "metadata": {},
   "outputs": [],
   "source": [
    "b_cancer = pd.read_csv(\"Cases/Wisconsin/BreastCancer.csv\",index_col=0)"
   ]
  },
  {
   "cell_type": "code",
   "execution_count": 11,
   "metadata": {},
   "outputs": [],
   "source": [
    "X = b_cancer.drop('Class',axis=1)\n",
    "y = b_cancer['Class']\n",
    "\n",
    "lbl = LabelEncoder()\n",
    "y = pd.DataFrame(lbl.fit_transform(y))\n",
    "\n",
    "X_train,X_test,y_train,y_test = train_test_split(X,y,test_size=0.3,random_state=23)"
   ]
  },
  {
   "cell_type": "code",
   "execution_count": 12,
   "metadata": {},
   "outputs": [
    {
     "name": "stdout",
     "output_type": "stream",
     "text": [
      "Accuraccy Score Using SVM :  0.9476190476190476\n"
     ]
    },
    {
     "name": "stderr",
     "output_type": "stream",
     "text": [
      "/home/dai/anaconda3/lib/python3.11/site-packages/sklearn/utils/validation.py:1183: DataConversionWarning: A column-vector y was passed when a 1d array was expected. Please change the shape of y to (n_samples, ), for example using ravel().\n",
      "  y = column_or_1d(y, warn=True)\n"
     ]
    }
   ],
   "source": [
    "svm = SVC(kernel='linear')\n",
    "svm.fit(X_train,y_train)\n",
    "\n",
    "y_pred = svm.predict(X_test)\n",
    "print(\"Accuraccy Score Using SVM : \",accuracy_score(y_test,y_pred))"
   ]
  },
  {
   "cell_type": "markdown",
   "metadata": {},
   "source": [
    "# PCA"
   ]
  },
  {
   "cell_type": "code",
   "execution_count": 15,
   "metadata": {},
   "outputs": [
    {
     "name": "stdout",
     "output_type": "stream",
     "text": [
      "Accuracy Score :  0.9523809523809523\n"
     ]
    },
    {
     "name": "stderr",
     "output_type": "stream",
     "text": [
      "/home/dai/anaconda3/lib/python3.11/site-packages/sklearn/utils/validation.py:1183: DataConversionWarning: A column-vector y was passed when a 1d array was expected. Please change the shape of y to (n_samples, ), for example using ravel().\n",
      "  y = column_or_1d(y, warn=True)\n"
     ]
    }
   ],
   "source": [
    "prcomp = PCA()\n",
    "\n",
    "X_train_pca = prcomp.fit_transform(X_train)\n",
    "X_test_pca = prcomp.fit_transform(X_test)\n",
    "\n",
    "svm = SVC(kernel='linear')\n",
    "svm.fit(X_train_pca[:,:4],y_train)\n",
    "y_pred_pca = svm.predict(X_test_pca[:,:4])\n",
    "print(\"Accuracy Score : \",accuracy_score(y_test,y_pred_pca))\n"
   ]
  },
  {
   "cell_type": "code",
   "execution_count": 18,
   "metadata": {},
   "outputs": [
    {
     "data": {
      "text/html": [
       "<div>\n",
       "<style scoped>\n",
       "    .dataframe tbody tr th:only-of-type {\n",
       "        vertical-align: middle;\n",
       "    }\n",
       "\n",
       "    .dataframe tbody tr th {\n",
       "        vertical-align: top;\n",
       "    }\n",
       "\n",
       "    .dataframe thead th {\n",
       "        text-align: right;\n",
       "    }\n",
       "</style>\n",
       "<table border=\"1\" class=\"dataframe\">\n",
       "  <thead>\n",
       "    <tr style=\"text-align: right;\">\n",
       "      <th></th>\n",
       "      <th>0</th>\n",
       "      <th>1</th>\n",
       "      <th>2</th>\n",
       "      <th>3</th>\n",
       "      <th>4</th>\n",
       "      <th>5</th>\n",
       "      <th>6</th>\n",
       "      <th>7</th>\n",
       "      <th>8</th>\n",
       "    </tr>\n",
       "  </thead>\n",
       "  <tbody>\n",
       "    <tr>\n",
       "      <th>0</th>\n",
       "      <td>-5.350823</td>\n",
       "      <td>0.403208</td>\n",
       "      <td>1.434692</td>\n",
       "      <td>0.321640</td>\n",
       "      <td>-1.109618</td>\n",
       "      <td>-0.933149</td>\n",
       "      <td>-1.367654</td>\n",
       "      <td>0.299342</td>\n",
       "      <td>-1.171434</td>\n",
       "    </tr>\n",
       "    <tr>\n",
       "      <th>1</th>\n",
       "      <td>10.104928</td>\n",
       "      <td>5.110197</td>\n",
       "      <td>-4.781073</td>\n",
       "      <td>-0.150344</td>\n",
       "      <td>-3.144288</td>\n",
       "      <td>7.366970</td>\n",
       "      <td>-1.929808</td>\n",
       "      <td>-1.213117</td>\n",
       "      <td>-2.383912</td>\n",
       "    </tr>\n",
       "    <tr>\n",
       "      <th>2</th>\n",
       "      <td>-5.295557</td>\n",
       "      <td>0.147649</td>\n",
       "      <td>-0.159375</td>\n",
       "      <td>0.047566</td>\n",
       "      <td>0.153076</td>\n",
       "      <td>0.023241</td>\n",
       "      <td>0.147175</td>\n",
       "      <td>0.121673</td>\n",
       "      <td>0.045168</td>\n",
       "    </tr>\n",
       "    <tr>\n",
       "      <th>3</th>\n",
       "      <td>8.761623</td>\n",
       "      <td>-0.808787</td>\n",
       "      <td>2.506648</td>\n",
       "      <td>3.246998</td>\n",
       "      <td>0.799888</td>\n",
       "      <td>6.347851</td>\n",
       "      <td>2.016524</td>\n",
       "      <td>1.539513</td>\n",
       "      <td>-1.056240</td>\n",
       "    </tr>\n",
       "    <tr>\n",
       "      <th>4</th>\n",
       "      <td>-4.352535</td>\n",
       "      <td>-0.214080</td>\n",
       "      <td>-0.932468</td>\n",
       "      <td>0.437347</td>\n",
       "      <td>2.247900</td>\n",
       "      <td>0.271195</td>\n",
       "      <td>-0.092519</td>\n",
       "      <td>-1.527106</td>\n",
       "      <td>-0.022394</td>\n",
       "    </tr>\n",
       "    <tr>\n",
       "      <th>...</th>\n",
       "      <td>...</td>\n",
       "      <td>...</td>\n",
       "      <td>...</td>\n",
       "      <td>...</td>\n",
       "      <td>...</td>\n",
       "      <td>...</td>\n",
       "      <td>...</td>\n",
       "      <td>...</td>\n",
       "      <td>...</td>\n",
       "    </tr>\n",
       "    <tr>\n",
       "      <th>484</th>\n",
       "      <td>8.290514</td>\n",
       "      <td>0.975895</td>\n",
       "      <td>-4.303039</td>\n",
       "      <td>2.702022</td>\n",
       "      <td>-0.468713</td>\n",
       "      <td>0.368471</td>\n",
       "      <td>1.938557</td>\n",
       "      <td>1.412883</td>\n",
       "      <td>-0.321604</td>\n",
       "    </tr>\n",
       "    <tr>\n",
       "      <th>485</th>\n",
       "      <td>-5.586004</td>\n",
       "      <td>0.387769</td>\n",
       "      <td>1.630312</td>\n",
       "      <td>0.075252</td>\n",
       "      <td>-0.543291</td>\n",
       "      <td>-0.138889</td>\n",
       "      <td>0.327351</td>\n",
       "      <td>1.171315</td>\n",
       "      <td>-0.048705</td>\n",
       "    </tr>\n",
       "    <tr>\n",
       "      <th>486</th>\n",
       "      <td>14.890536</td>\n",
       "      <td>0.455655</td>\n",
       "      <td>3.755062</td>\n",
       "      <td>-1.311061</td>\n",
       "      <td>0.478381</td>\n",
       "      <td>-3.106874</td>\n",
       "      <td>-1.964536</td>\n",
       "      <td>-1.840034</td>\n",
       "      <td>0.262014</td>\n",
       "    </tr>\n",
       "    <tr>\n",
       "      <th>487</th>\n",
       "      <td>-3.635516</td>\n",
       "      <td>-1.134171</td>\n",
       "      <td>-0.010166</td>\n",
       "      <td>-0.047379</td>\n",
       "      <td>-1.110014</td>\n",
       "      <td>-0.171272</td>\n",
       "      <td>-0.585413</td>\n",
       "      <td>-0.221191</td>\n",
       "      <td>-1.087285</td>\n",
       "    </tr>\n",
       "    <tr>\n",
       "      <th>488</th>\n",
       "      <td>-5.586004</td>\n",
       "      <td>0.387769</td>\n",
       "      <td>1.630312</td>\n",
       "      <td>0.075252</td>\n",
       "      <td>-0.543291</td>\n",
       "      <td>-0.138889</td>\n",
       "      <td>0.327351</td>\n",
       "      <td>1.171315</td>\n",
       "      <td>-0.048705</td>\n",
       "    </tr>\n",
       "  </tbody>\n",
       "</table>\n",
       "<p>489 rows × 9 columns</p>\n",
       "</div>"
      ],
      "text/plain": [
       "             0         1         2         3         4         5         6  \\\n",
       "0    -5.350823  0.403208  1.434692  0.321640 -1.109618 -0.933149 -1.367654   \n",
       "1    10.104928  5.110197 -4.781073 -0.150344 -3.144288  7.366970 -1.929808   \n",
       "2    -5.295557  0.147649 -0.159375  0.047566  0.153076  0.023241  0.147175   \n",
       "3     8.761623 -0.808787  2.506648  3.246998  0.799888  6.347851  2.016524   \n",
       "4    -4.352535 -0.214080 -0.932468  0.437347  2.247900  0.271195 -0.092519   \n",
       "..         ...       ...       ...       ...       ...       ...       ...   \n",
       "484   8.290514  0.975895 -4.303039  2.702022 -0.468713  0.368471  1.938557   \n",
       "485  -5.586004  0.387769  1.630312  0.075252 -0.543291 -0.138889  0.327351   \n",
       "486  14.890536  0.455655  3.755062 -1.311061  0.478381 -3.106874 -1.964536   \n",
       "487  -3.635516 -1.134171 -0.010166 -0.047379 -1.110014 -0.171272 -0.585413   \n",
       "488  -5.586004  0.387769  1.630312  0.075252 -0.543291 -0.138889  0.327351   \n",
       "\n",
       "            7         8  \n",
       "0    0.299342 -1.171434  \n",
       "1   -1.213117 -2.383912  \n",
       "2    0.121673  0.045168  \n",
       "3    1.539513 -1.056240  \n",
       "4   -1.527106 -0.022394  \n",
       "..        ...       ...  \n",
       "484  1.412883 -0.321604  \n",
       "485  1.171315 -0.048705  \n",
       "486 -1.840034  0.262014  \n",
       "487 -0.221191 -1.087285  \n",
       "488  1.171315 -0.048705  \n",
       "\n",
       "[489 rows x 9 columns]"
      ]
     },
     "execution_count": 18,
     "metadata": {},
     "output_type": "execute_result"
    }
   ],
   "source": [
    "df =pd.DataFrame(X_train_pca)\n",
    "df"
   ]
  },
  {
   "cell_type": "markdown",
   "metadata": {},
   "source": [
    "PCA Using Pipeline"
   ]
  },
  {
   "cell_type": "code",
   "execution_count": 19,
   "metadata": {},
   "outputs": [],
   "source": [
    "from sklearn.pipeline import Pipeline"
   ]
  },
  {
   "cell_type": "code",
   "execution_count": 20,
   "metadata": {},
   "outputs": [
    {
     "name": "stdout",
     "output_type": "stream",
     "text": [
      "Accuracy Score :  0.9523809523809523\n"
     ]
    },
    {
     "name": "stderr",
     "output_type": "stream",
     "text": [
      "/home/dai/anaconda3/lib/python3.11/site-packages/sklearn/utils/validation.py:1183: DataConversionWarning: A column-vector y was passed when a 1d array was expected. Please change the shape of y to (n_samples, ), for example using ravel().\n",
      "  y = column_or_1d(y, warn=True)\n"
     ]
    }
   ],
   "source": [
    "prcomp = PCA()\n",
    "\n",
    "X_train_pca = prcomp.fit_transform(X_train)\n",
    "X_test_pca = prcomp.fit_transform(X_test)\n",
    "\n",
    "svm = SVC(kernel='linear')\n",
    "pipe_svc = Pipeline([('PC',prcomp),('SVM',svm)])\n",
    "pipe_svc.fit(X_train_pca[:,:4],y_train)\n",
    "y_pred_pca = svm.predict(X_test_pca[:,:4])\n",
    "print(\"Accuracy Score : \",accuracy_score(y_test,y_pred_pca))\n"
   ]
  },
  {
   "cell_type": "markdown",
   "metadata": {},
   "source": [
    "PCA using Gidsearchcv"
   ]
  },
  {
   "cell_type": "code",
   "execution_count": 22,
   "metadata": {},
   "outputs": [],
   "source": [
    "from sklearn.model_selection import GridSearchCV,StratifiedKFold"
   ]
  },
  {
   "cell_type": "code",
   "execution_count": 26,
   "metadata": {},
   "outputs": [
    {
     "name": "stderr",
     "output_type": "stream",
     "text": [
      "/home/dai/anaconda3/lib/python3.11/site-packages/sklearn/utils/validation.py:1183: DataConversionWarning: A column-vector y was passed when a 1d array was expected. Please change the shape of y to (n_samples, ), for example using ravel().\n",
      "  y = column_or_1d(y, warn=True)\n",
      "/home/dai/anaconda3/lib/python3.11/site-packages/sklearn/utils/validation.py:1183: DataConversionWarning: A column-vector y was passed when a 1d array was expected. Please change the shape of y to (n_samples, ), for example using ravel().\n",
      "  y = column_or_1d(y, warn=True)\n",
      "/home/dai/anaconda3/lib/python3.11/site-packages/sklearn/utils/validation.py:1183: DataConversionWarning: A column-vector y was passed when a 1d array was expected. Please change the shape of y to (n_samples, ), for example using ravel().\n",
      "  y = column_or_1d(y, warn=True)\n",
      "/home/dai/anaconda3/lib/python3.11/site-packages/sklearn/utils/validation.py:1183: DataConversionWarning: A column-vector y was passed when a 1d array was expected. Please change the shape of y to (n_samples, ), for example using ravel().\n",
      "  y = column_or_1d(y, warn=True)\n",
      "/home/dai/anaconda3/lib/python3.11/site-packages/sklearn/utils/validation.py:1183: DataConversionWarning: A column-vector y was passed when a 1d array was expected. Please change the shape of y to (n_samples, ), for example using ravel().\n",
      "  y = column_or_1d(y, warn=True)\n",
      "/home/dai/anaconda3/lib/python3.11/site-packages/sklearn/utils/validation.py:1183: DataConversionWarning: A column-vector y was passed when a 1d array was expected. Please change the shape of y to (n_samples, ), for example using ravel().\n",
      "  y = column_or_1d(y, warn=True)\n",
      "/home/dai/anaconda3/lib/python3.11/site-packages/sklearn/utils/validation.py:1183: DataConversionWarning: A column-vector y was passed when a 1d array was expected. Please change the shape of y to (n_samples, ), for example using ravel().\n",
      "  y = column_or_1d(y, warn=True)\n",
      "/home/dai/anaconda3/lib/python3.11/site-packages/sklearn/utils/validation.py:1183: DataConversionWarning: A column-vector y was passed when a 1d array was expected. Please change the shape of y to (n_samples, ), for example using ravel().\n",
      "  y = column_or_1d(y, warn=True)\n",
      "/home/dai/anaconda3/lib/python3.11/site-packages/sklearn/utils/validation.py:1183: DataConversionWarning: A column-vector y was passed when a 1d array was expected. Please change the shape of y to (n_samples, ), for example using ravel().\n",
      "  y = column_or_1d(y, warn=True)\n"
     ]
    },
    {
     "name": "stdout",
     "output_type": "stream",
     "text": [
      "Best Parameters :  {'PC__n_components': 3}\n",
      "Best Score :  0.9699794450154162\n"
     ]
    },
    {
     "name": "stderr",
     "output_type": "stream",
     "text": [
      "/home/dai/anaconda3/lib/python3.11/site-packages/sklearn/utils/validation.py:1183: DataConversionWarning: A column-vector y was passed when a 1d array was expected. Please change the shape of y to (n_samples, ), for example using ravel().\n",
      "  y = column_or_1d(y, warn=True)\n",
      "/home/dai/anaconda3/lib/python3.11/site-packages/sklearn/utils/validation.py:1183: DataConversionWarning: A column-vector y was passed when a 1d array was expected. Please change the shape of y to (n_samples, ), for example using ravel().\n",
      "  y = column_or_1d(y, warn=True)\n",
      "/home/dai/anaconda3/lib/python3.11/site-packages/sklearn/utils/validation.py:1183: DataConversionWarning: A column-vector y was passed when a 1d array was expected. Please change the shape of y to (n_samples, ), for example using ravel().\n",
      "  y = column_or_1d(y, warn=True)\n",
      "/home/dai/anaconda3/lib/python3.11/site-packages/sklearn/utils/validation.py:1183: DataConversionWarning: A column-vector y was passed when a 1d array was expected. Please change the shape of y to (n_samples, ), for example using ravel().\n",
      "  y = column_or_1d(y, warn=True)\n",
      "/home/dai/anaconda3/lib/python3.11/site-packages/sklearn/utils/validation.py:1183: DataConversionWarning: A column-vector y was passed when a 1d array was expected. Please change the shape of y to (n_samples, ), for example using ravel().\n",
      "  y = column_or_1d(y, warn=True)\n",
      "/home/dai/anaconda3/lib/python3.11/site-packages/sklearn/utils/validation.py:1183: DataConversionWarning: A column-vector y was passed when a 1d array was expected. Please change the shape of y to (n_samples, ), for example using ravel().\n",
      "  y = column_or_1d(y, warn=True)\n",
      "/home/dai/anaconda3/lib/python3.11/site-packages/sklearn/utils/validation.py:1183: DataConversionWarning: A column-vector y was passed when a 1d array was expected. Please change the shape of y to (n_samples, ), for example using ravel().\n",
      "  y = column_or_1d(y, warn=True)\n",
      "/home/dai/anaconda3/lib/python3.11/site-packages/sklearn/utils/validation.py:1183: DataConversionWarning: A column-vector y was passed when a 1d array was expected. Please change the shape of y to (n_samples, ), for example using ravel().\n",
      "  y = column_or_1d(y, warn=True)\n",
      "/home/dai/anaconda3/lib/python3.11/site-packages/sklearn/utils/validation.py:1183: DataConversionWarning: A column-vector y was passed when a 1d array was expected. Please change the shape of y to (n_samples, ), for example using ravel().\n",
      "  y = column_or_1d(y, warn=True)\n",
      "/home/dai/anaconda3/lib/python3.11/site-packages/sklearn/utils/validation.py:1183: DataConversionWarning: A column-vector y was passed when a 1d array was expected. Please change the shape of y to (n_samples, ), for example using ravel().\n",
      "  y = column_or_1d(y, warn=True)\n",
      "/home/dai/anaconda3/lib/python3.11/site-packages/sklearn/utils/validation.py:1183: DataConversionWarning: A column-vector y was passed when a 1d array was expected. Please change the shape of y to (n_samples, ), for example using ravel().\n",
      "  y = column_or_1d(y, warn=True)\n",
      "/home/dai/anaconda3/lib/python3.11/site-packages/sklearn/utils/validation.py:1183: DataConversionWarning: A column-vector y was passed when a 1d array was expected. Please change the shape of y to (n_samples, ), for example using ravel().\n",
      "  y = column_or_1d(y, warn=True)\n"
     ]
    }
   ],
   "source": [
    "kfold = StratifiedKFold(n_splits=5,shuffle=True,random_state=23)\n",
    "\n",
    "params = {\"PC__n_components\":[2,3,4,5]}\n",
    "gcv = GridSearchCV(pipe_svc,param_grid=params,cv=None)\n",
    "gcv.fit(X,y)\n",
    "\n",
    "print(\"Best Parameters : \",gcv.best_params_)\n",
    "print(\"Best Score : \",gcv.best_score_)"
   ]
  },
  {
   "cell_type": "code",
   "execution_count": 27,
   "metadata": {},
   "outputs": [
    {
     "data": {
      "text/plain": [
       "{'mean_fit_time': array([0.01525183, 0.01518312, 0.01198635, 0.01021118]),\n",
       " 'std_fit_time': array([0.00231203, 0.00270996, 0.00114037, 0.00098608]),\n",
       " 'mean_score_time': array([0.0069479 , 0.00623441, 0.00472918, 0.00414486]),\n",
       " 'std_score_time': array([0.00120231, 0.00086072, 0.00050306, 0.00016611]),\n",
       " 'param_PC__n_components': masked_array(data=[2, 3, 4, 5],\n",
       "              mask=[False, False, False, False],\n",
       "        fill_value='?',\n",
       "             dtype=object),\n",
       " 'params': [{'PC__n_components': 2},\n",
       "  {'PC__n_components': 3},\n",
       "  {'PC__n_components': 4},\n",
       "  {'PC__n_components': 5}],\n",
       " 'split0_test_score': array([0.96428571, 0.97142857, 0.97142857, 0.97142857]),\n",
       " 'split1_test_score': array([0.94285714, 0.93571429, 0.92142857, 0.92857143]),\n",
       " 'split2_test_score': array([0.95      , 0.97857143, 0.97857143, 0.97857143]),\n",
       " 'split3_test_score': array([0.97142857, 0.97857143, 0.97857143, 0.97857143]),\n",
       " 'split4_test_score': array([0.97841727, 0.98561151, 0.98561151, 0.98561151]),\n",
       " 'mean_test_score': array([0.96139774, 0.96997945, 0.9671223 , 0.96855087]),\n",
       " 'std_test_score': array([0.01320821, 0.01770992, 0.02328294, 0.02048671]),\n",
       " 'rank_test_score': array([4, 1, 3, 2], dtype=int32)}"
      ]
     },
     "execution_count": 27,
     "metadata": {},
     "output_type": "execute_result"
    }
   ],
   "source": [
    "gcv.cv_results_"
   ]
  },
  {
   "cell_type": "code",
   "execution_count": null,
   "metadata": {},
   "outputs": [],
   "source": []
  },
  {
   "cell_type": "markdown",
   "metadata": {},
   "source": [
    "# PCA On HR Dataset"
   ]
  },
  {
   "cell_type": "code",
   "execution_count": 15,
   "metadata": {},
   "outputs": [],
   "source": [
    "import numpy as np \n",
    "import pandas as pd\n",
    "from sklearn.svm import SVC\n",
    "from sklearn.preprocessing import StandardScaler,OneHotEncoder\n",
    "from sklearn.model_selection import StratifiedKFold,GridSearchCV\n",
    "from sklearn.metrics import accuracy_score\n",
    "from sklearn.decomposition import PCA\n",
    "from sklearn.pipeline import Pipeline\n",
    "from sklearn.compose import make_column_transformer,make_column_selector"
   ]
  },
  {
   "cell_type": "code",
   "execution_count": 16,
   "metadata": {},
   "outputs": [],
   "source": [
    "hr = pd.read_csv(\"Cases/human-resources-analytics/HR_comma_sep.csv\")"
   ]
  },
  {
   "cell_type": "code",
   "execution_count": 19,
   "metadata": {},
   "outputs": [
    {
     "name": "stderr",
     "output_type": "stream",
     "text": [
      "/home/dai/anaconda3/lib/python3.11/site-packages/sklearn/model_selection/_validation.py:425: FitFailedWarning: \n",
      "10 fits failed out of a total of 40.\n",
      "The score on these train-test partitions for these parameters will be set to nan.\n",
      "If these failures are not expected, you can try to debug them by setting error_score='raise'.\n",
      "\n",
      "Below are more details about the failures:\n",
      "--------------------------------------------------------------------------------\n",
      "5 fits failed with the following error:\n",
      "Traceback (most recent call last):\n",
      "  File \"/home/dai/anaconda3/lib/python3.11/site-packages/sklearn/model_selection/_validation.py\", line 729, in _fit_and_score\n",
      "    estimator.fit(X_train, y_train, **fit_params)\n",
      "  File \"/home/dai/anaconda3/lib/python3.11/site-packages/sklearn/base.py\", line 1152, in wrapper\n",
      "    return fit_method(estimator, *args, **kwargs)\n",
      "           ^^^^^^^^^^^^^^^^^^^^^^^^^^^^^^^^^^^^^^\n",
      "  File \"/home/dai/anaconda3/lib/python3.11/site-packages/sklearn/pipeline.py\", line 423, in fit\n",
      "    Xt = self._fit(X, y, **fit_params_steps)\n",
      "         ^^^^^^^^^^^^^^^^^^^^^^^^^^^^^^^^^^^\n",
      "  File \"/home/dai/anaconda3/lib/python3.11/site-packages/sklearn/pipeline.py\", line 377, in _fit\n",
      "    X, fitted_transformer = fit_transform_one_cached(\n",
      "                            ^^^^^^^^^^^^^^^^^^^^^^^^^\n",
      "  File \"/home/dai/anaconda3/lib/python3.11/site-packages/joblib/memory.py\", line 349, in __call__\n",
      "    return self.func(*args, **kwargs)\n",
      "           ^^^^^^^^^^^^^^^^^^^^^^^^^^\n",
      "  File \"/home/dai/anaconda3/lib/python3.11/site-packages/sklearn/pipeline.py\", line 957, in _fit_transform_one\n",
      "    res = transformer.fit_transform(X, y, **fit_params)\n",
      "          ^^^^^^^^^^^^^^^^^^^^^^^^^^^^^^^^^^^^^^^^^^^^^\n",
      "  File \"/home/dai/anaconda3/lib/python3.11/site-packages/sklearn/utils/_set_output.py\", line 157, in wrapped\n",
      "    data_to_wrap = f(self, X, *args, **kwargs)\n",
      "                   ^^^^^^^^^^^^^^^^^^^^^^^^^^^\n",
      "  File \"/home/dai/anaconda3/lib/python3.11/site-packages/sklearn/base.py\", line 1152, in wrapper\n",
      "    return fit_method(estimator, *args, **kwargs)\n",
      "           ^^^^^^^^^^^^^^^^^^^^^^^^^^^^^^^^^^^^^^\n",
      "  File \"/home/dai/anaconda3/lib/python3.11/site-packages/sklearn/decomposition/_pca.py\", line 460, in fit_transform\n",
      "    U, S, Vt = self._fit(X)\n",
      "               ^^^^^^^^^^^^\n",
      "  File \"/home/dai/anaconda3/lib/python3.11/site-packages/sklearn/decomposition/_pca.py\", line 510, in _fit\n",
      "    return self._fit_full(X, n_components)\n",
      "           ^^^^^^^^^^^^^^^^^^^^^^^^^^^^^^^\n",
      "  File \"/home/dai/anaconda3/lib/python3.11/site-packages/sklearn/decomposition/_pca.py\", line 524, in _fit_full\n",
      "    raise ValueError(\n",
      "ValueError: n_components=8 must be between 0 and min(n_samples, n_features)=7 with svd_solver='full'\n",
      "\n",
      "--------------------------------------------------------------------------------\n",
      "5 fits failed with the following error:\n",
      "Traceback (most recent call last):\n",
      "  File \"/home/dai/anaconda3/lib/python3.11/site-packages/sklearn/model_selection/_validation.py\", line 729, in _fit_and_score\n",
      "    estimator.fit(X_train, y_train, **fit_params)\n",
      "  File \"/home/dai/anaconda3/lib/python3.11/site-packages/sklearn/base.py\", line 1152, in wrapper\n",
      "    return fit_method(estimator, *args, **kwargs)\n",
      "           ^^^^^^^^^^^^^^^^^^^^^^^^^^^^^^^^^^^^^^\n",
      "  File \"/home/dai/anaconda3/lib/python3.11/site-packages/sklearn/pipeline.py\", line 423, in fit\n",
      "    Xt = self._fit(X, y, **fit_params_steps)\n",
      "         ^^^^^^^^^^^^^^^^^^^^^^^^^^^^^^^^^^^\n",
      "  File \"/home/dai/anaconda3/lib/python3.11/site-packages/sklearn/pipeline.py\", line 377, in _fit\n",
      "    X, fitted_transformer = fit_transform_one_cached(\n",
      "                            ^^^^^^^^^^^^^^^^^^^^^^^^^\n",
      "  File \"/home/dai/anaconda3/lib/python3.11/site-packages/joblib/memory.py\", line 349, in __call__\n",
      "    return self.func(*args, **kwargs)\n",
      "           ^^^^^^^^^^^^^^^^^^^^^^^^^^\n",
      "  File \"/home/dai/anaconda3/lib/python3.11/site-packages/sklearn/pipeline.py\", line 957, in _fit_transform_one\n",
      "    res = transformer.fit_transform(X, y, **fit_params)\n",
      "          ^^^^^^^^^^^^^^^^^^^^^^^^^^^^^^^^^^^^^^^^^^^^^\n",
      "  File \"/home/dai/anaconda3/lib/python3.11/site-packages/sklearn/utils/_set_output.py\", line 157, in wrapped\n",
      "    data_to_wrap = f(self, X, *args, **kwargs)\n",
      "                   ^^^^^^^^^^^^^^^^^^^^^^^^^^^\n",
      "  File \"/home/dai/anaconda3/lib/python3.11/site-packages/sklearn/base.py\", line 1152, in wrapper\n",
      "    return fit_method(estimator, *args, **kwargs)\n",
      "           ^^^^^^^^^^^^^^^^^^^^^^^^^^^^^^^^^^^^^^\n",
      "  File \"/home/dai/anaconda3/lib/python3.11/site-packages/sklearn/decomposition/_pca.py\", line 460, in fit_transform\n",
      "    U, S, Vt = self._fit(X)\n",
      "               ^^^^^^^^^^^^\n",
      "  File \"/home/dai/anaconda3/lib/python3.11/site-packages/sklearn/decomposition/_pca.py\", line 510, in _fit\n",
      "    return self._fit_full(X, n_components)\n",
      "           ^^^^^^^^^^^^^^^^^^^^^^^^^^^^^^^\n",
      "  File \"/home/dai/anaconda3/lib/python3.11/site-packages/sklearn/decomposition/_pca.py\", line 524, in _fit_full\n",
      "    raise ValueError(\n",
      "ValueError: n_components=9 must be between 0 and min(n_samples, n_features)=7 with svd_solver='full'\n",
      "\n",
      "  warnings.warn(some_fits_failed_message, FitFailedWarning)\n",
      "/home/dai/anaconda3/lib/python3.11/site-packages/sklearn/model_selection/_search.py:979: UserWarning: One or more of the test scores are non-finite: [0.76212071 0.76212071 0.76212071 0.76212071 0.76212071 0.76318773\n",
      "        nan        nan]\n",
      "  warnings.warn(\n"
     ]
    },
    {
     "name": "stdout",
     "output_type": "stream",
     "text": [
      "Best Parameters :  {'PC__n_components': 7}\n",
      "Best Score :  0.763187729243081\n"
     ]
    }
   ],
   "source": [
    "hr = pd.get_dummies(hr,drop_first=True)\n",
    "\n",
    "X = hr.drop('left',axis = 1)\n",
    "y = hr['left']\n",
    "\n",
    "ohc = OneHotEncoder(sparse_output=False,drop='first')\n",
    "ct_enc = make_column_transformer((ohc,make_column_selector(dtype_include=object)),\n",
    "                               (\"passthrough\",make_column_selector(dtype_include=['int64','float64'])),\n",
    "                               verbose_feature_names_out=False).set_output(transform='pandas')\n",
    "\n",
    "pca = PCA()\n",
    "scalar = StandardScaler()\n",
    "svm = SVC(kernel='linear')\n",
    "kfold = StratifiedKFold(n_splits=5,shuffle=True,random_state=23)\n",
    "pipe = Pipeline([('TRANF',ct_enc),(\"SCL\",scalar),(\"PC\",pca),(\"SVM\",svm)])\n",
    "\n",
    "params = {\"PC__n_components\":[2,3,4,5,6,7,8,9]}\n",
    "\n",
    "gcv = GridSearchCV(pipe,param_grid=params,cv=kfold)\n",
    "gcv.fit(X,y)\n",
    "\n",
    "print(\"Best Parameters : \",gcv.best_params_)\n",
    "print(\"Best Score : \",gcv.best_score_)"
   ]
  },
  {
   "cell_type": "code",
   "execution_count": null,
   "metadata": {},
   "outputs": [],
   "source": []
  },
  {
   "cell_type": "markdown",
   "metadata": {},
   "source": [
    "<h4>Bank currapcy<h4>"
   ]
  },
  {
   "cell_type": "code",
   "execution_count": 1,
   "metadata": {},
   "outputs": [],
   "source": [
    "import numpy as np \n",
    "import pandas as pd\n",
    "from sklearn.svm import SVC\n",
    "from sklearn.preprocessing import StandardScaler,OneHotEncoder\n",
    "from sklearn.model_selection import StratifiedKFold,GridSearchCV\n",
    "from sklearn.metrics import accuracy_score\n",
    "from sklearn.decomposition import PCA\n",
    "from sklearn.pipeline import Pipeline\n",
    "from sklearn.compose import make_column_transformer,make_column_selector"
   ]
  },
  {
   "cell_type": "code",
   "execution_count": 2,
   "metadata": {},
   "outputs": [],
   "source": [
    "bank = pd.read_csv(\"Datasets/Bankcruptdata.csv\")"
   ]
  },
  {
   "cell_type": "code",
   "execution_count": 3,
   "metadata": {},
   "outputs": [
    {
     "name": "stdout",
     "output_type": "stream",
     "text": [
      "Best Parameters :  {'PC__n_components': 2}\n",
      "Best Score :  0.9677372020921592\n"
     ]
    }
   ],
   "source": [
    "bank = pd.get_dummies(bank,drop_first=True)\n",
    "\n",
    "X = bank.drop('Bankrupt?',axis = 1)\n",
    "y = bank['Bankrupt?']\n",
    "\n",
    "pca = PCA()\n",
    "\n",
    "svm = SVC(kernel='rbf')\n",
    "kfold = StratifiedKFold(n_splits=5,shuffle=True,random_state=23)\n",
    "pipe = Pipeline([(\"PC\",pca),(\"SVM\",svm)])\n",
    "\n",
    "params = {\"PC__n_components\":[2,3,4,5,6,7,8,9]}\n",
    "\n",
    "gcv = GridSearchCV(pipe,param_grid=params,cv=kfold)\n",
    "gcv.fit(X,y)\n",
    "\n",
    "print(\"Best Parameters : \",gcv.best_params_)\n",
    "print(\"Best Score : \",gcv.best_score_)"
   ]
  },
  {
   "cell_type": "code",
   "execution_count": 1,
   "metadata": {},
   "outputs": [
    {
     "ename": "NameError",
     "evalue": "name 'StandardScaler' is not defined",
     "output_type": "error",
     "traceback": [
      "\u001b[0;31m---------------------------------------------------------------------------\u001b[0m",
      "\u001b[0;31mNameError\u001b[0m                                 Traceback (most recent call last)",
      "\u001b[1;32m/home/dai/Documents/Machine Learning/Nov15_ML/Day12(pca_Analysis).ipynb Cell 26\u001b[0m line \u001b[0;36m1\n\u001b[0;32m----> <a href='vscode-notebook-cell:/home/dai/Documents/Machine%20Learning/Nov15_ML/Day12%28pca_Analysis%29.ipynb#X34sZmlsZQ%3D%3D?line=0'>1</a>\u001b[0m scalar \u001b[39m=\u001b[39m StandardScaler()\n\u001b[1;32m      <a href='vscode-notebook-cell:/home/dai/Documents/Machine%20Learning/Nov15_ML/Day12%28pca_Analysis%29.ipynb#X34sZmlsZQ%3D%3D?line=1'>2</a>\u001b[0m scaled_data \u001b[39m=\u001b[39m scalar\u001b[39m.\u001b[39mfit_transform(X)\n\u001b[1;32m      <a href='vscode-notebook-cell:/home/dai/Documents/Machine%20Learning/Nov15_ML/Day12%28pca_Analysis%29.ipynb#X34sZmlsZQ%3D%3D?line=2'>3</a>\u001b[0m pca \u001b[39m=\u001b[39m PCA()\n",
      "\u001b[0;31mNameError\u001b[0m: name 'StandardScaler' is not defined"
     ]
    }
   ],
   "source": [
    "scalar = StandardScaler()\n",
    "scaled_data = scalar.fit_transform(X)\n",
    "pca = PCA()\n",
    "\n",
    "score = pca.fit_transform(scaled_data)\n",
    "\n",
    "v_covar = np.cov(X)\n",
    "values, vector = np.linalg.eig(v_covar)\n",
    "\n",
    "print(\"Eigen Values : \",values)\n",
    "print(\"Variance Of PC Scores calculated manually : \",np.var(score, axis=0,ddof=1))\n",
    "print(pca.explained_variance_)"
   ]
  },
  {
   "cell_type": "code",
   "execution_count": null,
   "metadata": {},
   "outputs": [],
   "source": [
    "print(\"Cumulative Percentage Age Variation Explaned : \")\n",
    "print(np.cumsum(pca.explained_variance_ratio_*100))"
   ]
  }
 ],
 "metadata": {
  "kernelspec": {
   "display_name": "base",
   "language": "python",
   "name": "python3"
  },
  "language_info": {
   "codemirror_mode": {
    "name": "ipython",
    "version": 3
   },
   "file_extension": ".py",
   "mimetype": "text/x-python",
   "name": "python",
   "nbconvert_exporter": "python",
   "pygments_lexer": "ipython3",
   "version": "3.11.5"
  }
 },
 "nbformat": 4,
 "nbformat_minor": 2
}
