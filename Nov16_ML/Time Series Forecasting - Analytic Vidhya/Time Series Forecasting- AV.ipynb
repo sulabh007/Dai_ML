{
 "cells": [
  {
   "cell_type": "code",
   "execution_count": 1,
   "metadata": {},
   "outputs": [],
   "source": [
    "import os\n",
    "import pandas as pd\n",
    "from sktime.utils.plotting import plot_series\n",
    "from sktime.forecasting.model_selection import temporal_train_test_split\n",
    "from sktime.forecasting.ets import AutoETS\n",
    "from sktime.forecasting.base import ForecastingHorizon\n",
    "from sktime.performance_metrics.forecasting import mean_squared_error\n",
    "from sktime.forecasting.exp_smoothing import ExponentialSmoothing\n",
    "import matplotlib.pyplot as plt\n",
    "import warnings\n",
    "warnings.filterwarnings('ignore')"
   ]
  },
  {
   "cell_type": "code",
   "execution_count": 2,
   "metadata": {},
   "outputs": [],
   "source": [
    "avt_train = pd.read_csv('AV-Forecasting_Train.csv', index_col=1)\n",
    "idx = pd.to_datetime(avt_train.index).to_period('H')\n",
    "avt_train.index=idx\n",
    "y_train = avt_train['Count']"
   ]
  },
  {
   "cell_type": "markdown",
   "metadata": {},
   "source": [
    "AutoETS"
   ]
  },
  {
   "cell_type": "code",
   "execution_count": 4,
   "metadata": {},
   "outputs": [
    {
     "name": "stdout",
     "output_type": "stream",
     "text": [
      "                                 ETS Results                                  \n",
      "==============================================================================\n",
      "Dep. Variable:                  Count   No. Observations:                18288\n",
      "Model:                       ETS(MAM)   Log Likelihood              -82915.149\n",
      "Date:                Thu, 16 Nov 2023   AIC                         165890.297\n",
      "Time:                        19:41:37   BIC                         166124.717\n",
      "Sample:                    08-25-2012   HQIC                        165967.326\n",
      "                         - 09-25-2014   Scale                            0.107\n",
      "Covariance Type:               approx                                         \n",
      "=======================================================================================\n",
      "                          coef    std err          z      P>|z|      [0.025      0.975]\n",
      "---------------------------------------------------------------------------------------\n",
      "smoothing_level         0.3354      0.004     75.730      0.000       0.327       0.344\n",
      "smoothing_trend      3.354e-05   1.85e-05      1.809      0.070   -2.79e-06    6.99e-05\n",
      "smoothing_seasonal      0.0139      0.001     14.979      0.000       0.012       0.016\n",
      "initial_level           3.1542        nan        nan        nan         nan         nan\n",
      "initial_trend           0.7184        nan        nan        nan         nan         nan\n",
      "initial_seasonal.0      0.8895        nan        nan        nan         nan         nan\n",
      "initial_seasonal.1      1.0642        nan        nan        nan         nan         nan\n",
      "initial_seasonal.2      1.0317        nan        nan        nan         nan         nan\n",
      "initial_seasonal.3      1.0685        nan        nan        nan         nan         nan\n",
      "initial_seasonal.4      1.0154        nan        nan        nan         nan         nan\n",
      "initial_seasonal.5      1.0614        nan        nan        nan         nan         nan\n",
      "initial_seasonal.6      1.0159        nan        nan        nan         nan         nan\n",
      "initial_seasonal.7      1.0062        nan        nan        nan         nan         nan\n",
      "initial_seasonal.8      0.8652        nan        nan        nan         nan         nan\n",
      "initial_seasonal.9      0.7493        nan        nan        nan         nan         nan\n",
      "initial_seasonal.10     0.7927        nan        nan        nan         nan         nan\n",
      "initial_seasonal.11     0.8165        nan        nan        nan         nan         nan\n",
      "initial_seasonal.12     0.8361        nan        nan        nan         nan         nan\n",
      "initial_seasonal.13     1.0490        nan        nan        nan         nan         nan\n",
      "initial_seasonal.14     0.7056        nan        nan        nan         nan         nan\n",
      "initial_seasonal.15     0.6200        nan        nan        nan         nan         nan\n",
      "initial_seasonal.16     0.5768        nan        nan        nan         nan         nan\n",
      "initial_seasonal.17     0.5459        nan        nan        nan         nan         nan\n",
      "initial_seasonal.18     0.4465        nan        nan        nan         nan         nan\n",
      "initial_seasonal.19     0.5621        nan        nan        nan         nan         nan\n",
      "initial_seasonal.20     0.5453        nan        nan        nan         nan         nan\n",
      "initial_seasonal.21     0.9692        nan        nan        nan         nan         nan\n",
      "initial_seasonal.22     1.7332        nan        nan        nan         nan         nan\n",
      "initial_seasonal.23     1.0000        nan        nan        nan         nan         nan\n",
      "===================================================================================\n",
      "Ljung-Box (Q):                     1349.77   Jarque-Bera (JB):            363724.93\n",
      "Prob(Q):                              0.00   Prob(JB):                         0.00\n",
      "Heteroskedasticity (H):               0.16   Skew:                             2.26\n",
      "Prob(H) (two-sided):                  0.00   Kurtosis:                        24.38\n",
      "===================================================================================\n",
      "\n",
      "Warnings:\n",
      "[1] Covariance matrix calculated using numerical (complex-step) differentiation.\n"
     ]
    }
   ],
   "source": [
    "forecaster = AutoETS(auto=True, sp=24, n_jobs=-1)\n",
    "forecaster.fit(y_train)\n",
    "print(forecaster.summary())"
   ]
  },
  {
   "cell_type": "code",
   "execution_count": 5,
   "metadata": {},
   "outputs": [],
   "source": [
    "avt_test = pd.read_csv('AV-Forecasting_Test.csv')\n",
    "idx = pd.to_datetime(avt_test.index).to_period('H')\n",
    "avt_test.index=idx"
   ]
  },
  {
   "cell_type": "code",
   "execution_count": 6,
   "metadata": {},
   "outputs": [
    {
     "ename": "ValueError",
     "evalue": "Invalid `fh`. The `fh` values must not contain any duplicates.",
     "output_type": "error",
     "traceback": [
      "\u001b[0;31m---------------------------------------------------------------------------\u001b[0m",
      "\u001b[0;31mValueError\u001b[0m                                Traceback (most recent call last)",
      "\u001b[1;32m/home/dai/Documents/Machine Learning/Nov16_ML/Time Series Forecasting - Analytic Vidhya/Time Series Forecasting- AV.ipynb Cell 6\u001b[0m line \u001b[0;36m1\n\u001b[0;32m----> <a href='vscode-notebook-cell:/home/dai/Documents/Machine%20Learning/Nov16_ML/Time%20Series%20Forecasting%20-%20Analytic%20Vidhya/Time%20Series%20Forecasting-%20AV.ipynb#W5sZmlsZQ%3D%3D?line=0'>1</a>\u001b[0m fh \u001b[39m=\u001b[39m ForecastingHorizon(avt_test\u001b[39m.\u001b[39mindex, is_relative\u001b[39m=\u001b[39m\u001b[39mFalse\u001b[39;00m)\n",
      "File \u001b[0;32m~/anaconda3/lib/python3.11/site-packages/sktime/forecasting/base/_fh.py:296\u001b[0m, in \u001b[0;36mForecastingHorizon.__init__\u001b[0;34m(self, values, is_relative, freq)\u001b[0m\n\u001b[1;32m    287\u001b[0m \u001b[39mdef\u001b[39;00m \u001b[39m__init__\u001b[39m(\n\u001b[1;32m    288\u001b[0m     \u001b[39mself\u001b[39m,\n\u001b[1;32m    289\u001b[0m     values: Union[VALID_FORECASTING_HORIZON_TYPES] \u001b[39m=\u001b[39m \u001b[39mNone\u001b[39;00m,\n\u001b[0;32m   (...)\u001b[0m\n\u001b[1;32m    294\u001b[0m \n\u001b[1;32m    295\u001b[0m     \u001b[39m# values to pd.Index self._values\u001b[39;00m\n\u001b[0;32m--> 296\u001b[0m     values \u001b[39m=\u001b[39m _check_values(values)\n\u001b[1;32m    297\u001b[0m     \u001b[39mself\u001b[39m\u001b[39m.\u001b[39m_values \u001b[39m=\u001b[39m values\n\u001b[1;32m    299\u001b[0m     \u001b[39m# infer freq from values, if available\u001b[39;00m\n\u001b[1;32m    300\u001b[0m     \u001b[39m# if not, infer from freq argument, if available\u001b[39;00m\n",
      "File \u001b[0;32m~/anaconda3/lib/python3.11/site-packages/sktime/forecasting/base/_fh.py:142\u001b[0m, in \u001b[0;36m_check_values\u001b[0;34m(values)\u001b[0m\n\u001b[1;32m    140\u001b[0m \u001b[39m# check values does not contain duplicates\u001b[39;00m\n\u001b[1;32m    141\u001b[0m \u001b[39mif\u001b[39;00m \u001b[39mlen\u001b[39m(values) \u001b[39m!=\u001b[39m values\u001b[39m.\u001b[39mnunique():\n\u001b[0;32m--> 142\u001b[0m     \u001b[39mraise\u001b[39;00m \u001b[39mValueError\u001b[39;00m(\n\u001b[1;32m    143\u001b[0m         \u001b[39m\"\u001b[39m\u001b[39mInvalid `fh`. The `fh` values must not contain any duplicates.\u001b[39m\u001b[39m\"\u001b[39m\n\u001b[1;32m    144\u001b[0m     )\n\u001b[1;32m    146\u001b[0m \u001b[39m# return sorted values\u001b[39;00m\n\u001b[1;32m    147\u001b[0m \u001b[39mreturn\u001b[39;00m values\u001b[39m.\u001b[39msort_values()\n",
      "\u001b[0;31mValueError\u001b[0m: Invalid `fh`. The `fh` values must not contain any duplicates."
     ]
    }
   ],
   "source": [
    "fh = ForecastingHorizon(avt_test.index, is_relative=False)"
   ]
  },
  {
   "cell_type": "code",
   "execution_count": 7,
   "metadata": {},
   "outputs": [
    {
     "ename": "NameError",
     "evalue": "name 'fh' is not defined",
     "output_type": "error",
     "traceback": [
      "\u001b[0;31m---------------------------------------------------------------------------\u001b[0m",
      "\u001b[0;31mNameError\u001b[0m                                 Traceback (most recent call last)",
      "\u001b[1;32m/home/dai/Documents/Machine Learning/Nov16_ML/Time Series Forecasting - Analytic Vidhya/Time Series Forecasting- AV.ipynb Cell 7\u001b[0m line \u001b[0;36m1\n\u001b[0;32m----> <a href='vscode-notebook-cell:/home/dai/Documents/Machine%20Learning/Nov16_ML/Time%20Series%20Forecasting%20-%20Analytic%20Vidhya/Time%20Series%20Forecasting-%20AV.ipynb#W6sZmlsZQ%3D%3D?line=0'>1</a>\u001b[0m y_pred \u001b[39m=\u001b[39m forecaster\u001b[39m.\u001b[39mpredict(fh)\n\u001b[1;32m      <a href='vscode-notebook-cell:/home/dai/Documents/Machine%20Learning/Nov16_ML/Time%20Series%20Forecasting%20-%20Analytic%20Vidhya/Time%20Series%20Forecasting-%20AV.ipynb#W6sZmlsZQ%3D%3D?line=1'>2</a>\u001b[0m plot_series(avt_train, y_pred, labels\u001b[39m=\u001b[39m[\u001b[39m'\u001b[39m\u001b[39my_train\u001b[39m\u001b[39m'\u001b[39m, \u001b[39m'\u001b[39m\u001b[39my_pred\u001b[39m\u001b[39m'\u001b[39m])\n\u001b[1;32m      <a href='vscode-notebook-cell:/home/dai/Documents/Machine%20Learning/Nov16_ML/Time%20Series%20Forecasting%20-%20Analytic%20Vidhya/Time%20Series%20Forecasting-%20AV.ipynb#W6sZmlsZQ%3D%3D?line=2'>3</a>\u001b[0m plt\u001b[39m.\u001b[39mshow()\n",
      "\u001b[0;31mNameError\u001b[0m: name 'fh' is not defined"
     ]
    }
   ],
   "source": [
    "y_pred = forecaster.predict(fh)\n",
    "plot_series(avt_train, y_pred, labels=['y_train', 'y_pred'])\n",
    "plt.show()"
   ]
  },
  {
   "cell_type": "code",
   "execution_count": null,
   "metadata": {},
   "outputs": [],
   "source": [
    "\n",
    "import numpy as np\n",
    "\n",
    "\n",
    "submit = pd.read_csv('AV-Forecasting_Test.csv')\n",
    "submit['count'] = np.around(y_pred.values)\n",
    "pd.to"
   ]
  }
 ],
 "metadata": {
  "kernelspec": {
   "display_name": "base",
   "language": "python",
   "name": "python3"
  },
  "language_info": {
   "codemirror_mode": {
    "name": "ipython",
    "version": 3
   },
   "file_extension": ".py",
   "mimetype": "text/x-python",
   "name": "python",
   "nbconvert_exporter": "python",
   "pygments_lexer": "ipython3",
   "version": "3.11.5"
  }
 },
 "nbformat": 4,
 "nbformat_minor": 2
}
