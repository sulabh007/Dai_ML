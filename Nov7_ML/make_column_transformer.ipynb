{
 "cells": [
  {
   "cell_type": "code",
   "execution_count": 3,
   "metadata": {},
   "outputs": [],
   "source": [
    "import pandas as pd\n",
    "from sklearn.compose import make_column_transformer\n",
    "from sklearn.compose import make_column_selector\n",
    "from sklearn.impute import SimpleImputer\n",
    "import numpy as np"
   ]
  },
  {
   "cell_type": "code",
   "execution_count": 8,
   "metadata": {},
   "outputs": [
    {
     "name": "stdout",
     "output_type": "stream",
     "text": [
      "Manufacturer           0\n",
      "Type                   0\n",
      "Min.Price              0\n",
      "Price                  0\n",
      "Max.Price              0\n",
      "MPG.city               0\n",
      "MPG.highway            0\n",
      "AirBags                0\n",
      "DriveTrain             0\n",
      "Cylinders              0\n",
      "EngineSize             0\n",
      "Horsepower             0\n",
      "RPM                    0\n",
      "Rev.per.mile           0\n",
      "Man.trans.avail        0\n",
      "Fuel.tank.capacity     0\n",
      "Passengers             0\n",
      "Length                 0\n",
      "Wheelbase              0\n",
      "Width                  0\n",
      "Turn.circle            0\n",
      "Rear.seat.room         2\n",
      "Luggage.room          11\n",
      "Weight                 0\n",
      "Origin                 0\n",
      "dtype: int64\n",
      "Manufacturer          0\n",
      "Type                  0\n",
      "Min.Price             0\n",
      "Price                 0\n",
      "Max.Price             0\n",
      "MPG.city              0\n",
      "MPG.highway           0\n",
      "AirBags               0\n",
      "DriveTrain            0\n",
      "Cylinders             0\n",
      "EngineSize            0\n",
      "Horsepower            0\n",
      "RPM                   0\n",
      "Rev.per.mile          0\n",
      "Man.trans.avail       0\n",
      "Fuel.tank.capacity    0\n",
      "Passengers            0\n",
      "Length                0\n",
      "Wheelbase             0\n",
      "Width                 0\n",
      "Turn.circle           0\n",
      "Rear.seat.room        0\n",
      "Luggage.room          0\n",
      "Weight                0\n",
      "Origin                0\n",
      "dtype: int64\n"
     ]
    }
   ],
   "source": [
    "imp = SimpleImputer()\n",
    "df = pd.read_csv(\"Cars93.csv\", index_col=1)\n",
    "df['AirBags'].fillna('No AirBags', inplace=True)\n",
    "print(df.isnull().sum())\n",
    "\n",
    "ct = make_column_transformer(('passthrough', make_column_selector(dtype_include=object)),\n",
    "                             (imp, make_column_selector(dtype_include=['int64', 'float64'])))\n",
    "imputed_np = ct.fit_transform(df)\n",
    "imputer_df = pd.DataFrame(imputed_np, columns=df.columns, index=df.index)\n",
    "print(imputer_df.isnull().sum())"
   ]
  }
 ],
 "metadata": {
  "kernelspec": {
   "display_name": "base",
   "language": "python",
   "name": "python3"
  },
  "language_info": {
   "codemirror_mode": {
    "name": "ipython",
    "version": 3
   },
   "file_extension": ".py",
   "mimetype": "text/x-python",
   "name": "python",
   "nbconvert_exporter": "python",
   "pygments_lexer": "ipython3",
   "version": "3.11.5"
  }
 },
 "nbformat": 4,
 "nbformat_minor": 2
}
