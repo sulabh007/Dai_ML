{
 "cells": [
  {
   "cell_type": "code",
   "execution_count": 2,
   "metadata": {},
   "outputs": [],
   "source": [
    "import numpy as np\n",
    "from sklearn.impute import KNNImputer"
   ]
  },
  {
   "cell_type": "code",
   "execution_count": 3,
   "metadata": {},
   "outputs": [],
   "source": [
    "X = np.array([[1, 2, np.nan],\n",
    "              [8, 6.3, 5.6],\n",
    "              [1.2, 2.3, 4],\n",
    "              [1.25, 2.35, 5],\n",
    "              [1.2, 2.4, 3],\n",
    "              [np.nan, 6, 5],\n",
    "              [10, 6.43, 5.61]])"
   ]
  },
  {
   "cell_type": "code",
   "execution_count": 4,
   "metadata": {},
   "outputs": [
    {
     "data": {
      "text/plain": [
       "array([[ 1.  ,  2.  ,  4.  ],\n",
       "       [ 8.  ,  6.3 ,  5.6 ],\n",
       "       [ 1.2 ,  2.3 ,  4.  ],\n",
       "       [ 1.25,  2.35,  5.  ],\n",
       "       [ 1.2 ,  2.4 ,  3.  ],\n",
       "       [ 8.  ,  6.  ,  5.  ],\n",
       "       [10.  ,  6.43,  5.61]])"
      ]
     },
     "execution_count": 4,
     "metadata": {},
     "output_type": "execute_result"
    }
   ],
   "source": [
    "imputer = KNNImputer(n_neighbors=1)\n",
    "imputer.fit_transform(X)"
   ]
  },
  {
   "cell_type": "code",
   "execution_count": 5,
   "metadata": {},
   "outputs": [
    {
     "data": {
      "text/plain": [
       "array([[ 1.  ,  2.  ,  4.5 ],\n",
       "       [ 8.  ,  6.3 ,  5.6 ],\n",
       "       [ 1.2 ,  2.3 ,  4.  ],\n",
       "       [ 1.25,  2.35,  5.  ],\n",
       "       [ 1.2 ,  2.4 ,  3.  ],\n",
       "       [ 9.  ,  6.  ,  5.  ],\n",
       "       [10.  ,  6.43,  5.61]])"
      ]
     },
     "execution_count": 5,
     "metadata": {},
     "output_type": "execute_result"
    }
   ],
   "source": [
    "imputer = KNNImputer(n_neighbors=2)\n",
    "imputer.fit_transform(X)"
   ]
  },
  {
   "cell_type": "code",
   "execution_count": 6,
   "metadata": {},
   "outputs": [
    {
     "data": {
      "text/plain": [
       "array([[ 1.        ,  2.        ,  4.        ],\n",
       "       [ 8.        ,  6.3       ,  5.6       ],\n",
       "       [ 1.2       ,  2.3       ,  4.        ],\n",
       "       [ 1.25      ,  2.35      ,  5.        ],\n",
       "       [ 1.2       ,  2.4       ,  3.        ],\n",
       "       [ 6.41666667,  6.        ,  5.        ],\n",
       "       [10.        ,  6.43      ,  5.61      ]])"
      ]
     },
     "execution_count": 6,
     "metadata": {},
     "output_type": "execute_result"
    }
   ],
   "source": [
    "imputer = KNNImputer(n_neighbors=3)\n",
    "imputer.fit_transform(X)"
   ]
  }
 ],
 "metadata": {
  "kernelspec": {
   "display_name": "base",
   "language": "python",
   "name": "python3"
  },
  "language_info": {
   "codemirror_mode": {
    "name": "ipython",
    "version": 3
   },
   "file_extension": ".py",
   "mimetype": "text/x-python",
   "name": "python",
   "nbconvert_exporter": "python",
   "pygments_lexer": "ipython3",
   "version": "3.11.5"
  }
 },
 "nbformat": 4,
 "nbformat_minor": 2
}
