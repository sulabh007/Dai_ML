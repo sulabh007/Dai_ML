{
 "cells": [
  {
   "cell_type": "code",
   "execution_count": 2,
   "metadata": {},
   "outputs": [],
   "source": [
    "import pandas as pd\n",
    "from sklearn.impute import SimpleImputer"
   ]
  },
  {
   "cell_type": "code",
   "execution_count": 3,
   "metadata": {},
   "outputs": [
    {
     "name": "stdout",
     "output_type": "stream",
     "text": [
      "Yield                      0\n",
      "BiologicalMaterial01       0\n",
      "BiologicalMaterial02       0\n",
      "BiologicalMaterial03       0\n",
      "BiologicalMaterial04       0\n",
      "BiologicalMaterial05       0\n",
      "BiologicalMaterial06       0\n",
      "BiologicalMaterial07       0\n",
      "BiologicalMaterial08       0\n",
      "BiologicalMaterial09       0\n",
      "BiologicalMaterial10       0\n",
      "BiologicalMaterial11       0\n",
      "BiologicalMaterial12       0\n",
      "ManufacturingProcess01     1\n",
      "ManufacturingProcess02     3\n",
      "ManufacturingProcess03    15\n",
      "ManufacturingProcess04     1\n",
      "ManufacturingProcess05     1\n",
      "ManufacturingProcess06     2\n",
      "ManufacturingProcess07     1\n",
      "ManufacturingProcess08     1\n",
      "ManufacturingProcess09     0\n",
      "ManufacturingProcess10     9\n",
      "ManufacturingProcess11    10\n",
      "ManufacturingProcess12     1\n",
      "ManufacturingProcess13     0\n",
      "ManufacturingProcess14     1\n",
      "ManufacturingProcess15     0\n",
      "ManufacturingProcess16     0\n",
      "ManufacturingProcess17     0\n",
      "ManufacturingProcess18     0\n",
      "ManufacturingProcess19     0\n",
      "ManufacturingProcess20     0\n",
      "ManufacturingProcess21     0\n",
      "ManufacturingProcess22     1\n",
      "ManufacturingProcess23     1\n",
      "ManufacturingProcess24     1\n",
      "ManufacturingProcess25     5\n",
      "ManufacturingProcess26     5\n",
      "ManufacturingProcess27     5\n",
      "ManufacturingProcess28     5\n",
      "ManufacturingProcess29     5\n",
      "ManufacturingProcess30     5\n",
      "ManufacturingProcess31     5\n",
      "ManufacturingProcess32     0\n",
      "ManufacturingProcess33     5\n",
      "ManufacturingProcess34     5\n",
      "ManufacturingProcess35     5\n",
      "ManufacturingProcess36     5\n",
      "ManufacturingProcess37     0\n",
      "ManufacturingProcess38     0\n",
      "ManufacturingProcess39     0\n",
      "ManufacturingProcess40     1\n",
      "ManufacturingProcess41     1\n",
      "ManufacturingProcess42     0\n",
      "ManufacturingProcess43     0\n",
      "ManufacturingProcess44     0\n",
      "ManufacturingProcess45     0\n",
      "dtype: int64\n",
      "106\n"
     ]
    }
   ],
   "source": [
    "chem = pd.read_csv(\"ChemicalProcess.csv\")\n",
    "print(chem.isnull().sum())\n",
    "print(chem.isnull().sum().sum())"
   ]
  },
  {
   "cell_type": "code",
   "execution_count": 4,
   "metadata": {},
   "outputs": [
    {
     "name": "stdout",
     "output_type": "stream",
     "text": [
      "0\n"
     ]
    }
   ],
   "source": [
    "imp = SimpleImputer()\n",
    "imputed = imp.fit_transform(chem)\n",
    "pd_imp = pd.DataFrame(imputed,columns=chem.columns)\n",
    "print(pd_imp.isnull().sum().sum())"
   ]
  },
  {
   "cell_type": "code",
   "execution_count": 7,
   "metadata": {},
   "outputs": [],
   "source": [
    "job = pd.read_csv(\"JobSalary2.csv\", index_col=0)\n",
    "imp_mean = SimpleImputer()\n",
    "imputed_mean = imp_mean.fit_transform(job)\n",
    "\n",
    "imp_med = SimpleImputer(strategy = 'median')\n",
    "imputed_med = imp_med.fit_transform(job)"
   ]
  }
 ],
 "metadata": {
  "kernelspec": {
   "display_name": "base",
   "language": "python",
   "name": "python3"
  },
  "language_info": {
   "codemirror_mode": {
    "name": "ipython",
    "version": 3
   },
   "file_extension": ".py",
   "mimetype": "text/x-python",
   "name": "python",
   "nbconvert_exporter": "python",
   "pygments_lexer": "ipython3",
   "version": "3.11.5"
  }
 },
 "nbformat": 4,
 "nbformat_minor": 2
}
