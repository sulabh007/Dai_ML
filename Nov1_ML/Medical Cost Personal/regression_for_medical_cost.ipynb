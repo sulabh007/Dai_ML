{
 "cells": [
  {
   "cell_type": "code",
   "execution_count": 20,
   "metadata": {},
   "outputs": [],
   "source": [
    "from sklearn.model_selection import KFold, cross_val_score\n",
    "from sklearn.linear_model import ElasticNet\n",
    "from sklearn.model_selection import GridSearchCV\n",
    "import numpy as np\n",
    "import pandas as pd"
   ]
  },
  {
   "cell_type": "code",
   "execution_count": 21,
   "metadata": {},
   "outputs": [],
   "source": [
    "insurance = pd.read_csv(\"insurance.csv\")\n",
    "dum_insurance = pd.get_dummies(insurance,drop_first=True)\n",
    "X = dum_insurance.drop('charges',axis=1)\n",
    "y = dum_insurance['charges']\n",
    "kfold =KFold(n_splits=5, shuffle=True, random_state=23)\n",
    "elastic = ElasticNet()"
   ]
  },
  {
   "cell_type": "code",
   "execution_count": 22,
   "metadata": {},
   "outputs": [
    {
     "name": "stdout",
     "output_type": "stream",
     "text": [
      "{'alpha': 0.1, 'l1_ratio': 0.9}\n",
      "-37311388.216144435\n"
     ]
    }
   ],
   "source": [
    "alphas = [0.1, 0.5, 1, 2, 2.5, 3]\n",
    "l1_rat = [0.1, 0.25, 0.5, 0.8,0.9 ]\n",
    "params = {'alpha':alphas,'l1_ratio':l1_rat}\n",
    "gcv = GridSearchCV(elastic,param_grid=params,cv=kfold, scoring='neg_mean_squared_error')\n",
    "gcv.fit(X,y)\n",
    "print(gcv.best_params_)\n",
    "print(gcv.best_score_)"
   ]
  },
  {
   "cell_type": "code",
   "execution_count": 23,
   "metadata": {},
   "outputs": [
    {
     "name": "stdout",
     "output_type": "stream",
     "text": [
      "{'alpha': 0.4219473684210526, 'l1_ratio': 0.999}\n",
      "-37001889.66821414\n"
     ]
    }
   ],
   "source": [
    "alphas = np.linspace(0.001, 4, 20)\n",
    "l1_rat = np.linspace(0.001, 0.999, 20)\n",
    "params = {'alpha':alphas,'l1_ratio':l1_rat}\n",
    "gcv = GridSearchCV(elastic,param_grid=params,cv=kfold, scoring='neg_mean_squared_error')\n",
    "gcv.fit(X,y)\n",
    "print(gcv.best_params_)\n",
    "print(gcv.best_score_)"
   ]
  },
  {
   "cell_type": "markdown",
   "metadata": {},
   "source": [
    "Inferencing"
   ]
  },
  {
   "cell_type": "code",
   "execution_count": 24,
   "metadata": {},
   "outputs": [
    {
     "name": "stdout",
     "output_type": "stream",
     "text": [
      "[25242.18981459  3471.43289454  6729.07190866  3773.84367068\n",
      "  6102.33134604 11822.90897151   618.77473691  2685.79199629\n",
      " 34130.92005875 12720.13635342  4505.45084458 25377.77464579\n",
      " 13154.21980106 26701.68658459  9468.44399904 12207.87522563\n",
      " 11208.06154242 13852.98252035  1144.3216274   2964.49485932\n",
      "  2210.0779437   3434.99296017  1785.99403038 13159.08362352\n",
      "  4974.89296557  5227.5509726   6111.10119841 28968.19764738\n",
      "  6079.82292765 30240.99114655  9087.44088554 34962.03365803\n",
      " 13414.37470692 14502.16420412  1978.09903491  5245.7065463\n",
      "  9321.44724396 10305.6995601  30562.55482635  7449.15582018\n",
      " 12298.57698533 31315.09514558 24885.16337157 30458.09587647\n",
      " 10752.20397586 31314.29668046 27949.00791349 14763.38422258\n",
      "  6391.96789611  7151.84967182 11480.95402145  7176.15264537\n",
      "  8610.135211    6944.23721788 17839.19386378  3491.6121133\n",
      " 10779.60528526 11284.35923264 29999.44109131  6369.54237334\n",
      "  5526.49415645 11027.95835951 31071.02289863 14081.11813719\n",
      " 12669.19372579  7220.43829523  4264.97331817 16079.10955059\n",
      " 14595.16088981  5887.10815117 10288.49223378  7699.57633547\n",
      " 36834.40994679 11337.31742636  7794.77574381  6719.49544849\n",
      "  3956.14866609  8822.86674184 10122.79493191  6799.87267627\n",
      "   946.45311537 12202.25605378  8451.44221789 11730.75927969\n",
      " 14206.09094912 13958.64558121  8793.20574117  2852.28663462]\n"
     ]
    }
   ],
   "source": [
    "best_model = gcv.best_estimator_\n",
    "unlable_data = pd.read_csv(\"tst_insure.csv\")\n",
    "dum_unlable_data = pd.get_dummies(unlable_data,drop_first=True)\n",
    "y_pred = best_model.predict(dum_unlable_data)\n",
    "print(y_pred)"
   ]
  },
  {
   "cell_type": "code",
   "execution_count": null,
   "metadata": {},
   "outputs": [],
   "source": []
  }
 ],
 "metadata": {
  "kernelspec": {
   "display_name": "base",
   "language": "python",
   "name": "python3"
  },
  "language_info": {
   "codemirror_mode": {
    "name": "ipython",
    "version": 3
   },
   "file_extension": ".py",
   "mimetype": "text/x-python",
   "name": "python",
   "nbconvert_exporter": "python",
   "pygments_lexer": "ipython3",
   "version": "3.11.5"
  }
 },
 "nbformat": 4,
 "nbformat_minor": 2
}
