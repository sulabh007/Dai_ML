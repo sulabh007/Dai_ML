{
 "cells": [
  {
   "cell_type": "code",
   "execution_count": 3,
   "metadata": {},
   "outputs": [],
   "source": [
    "from sklearn.model_selection import KFold, cross_val_score\n",
    "from sklearn.linear_model import ElasticNet\n",
    "from sklearn.model_selection import GridSearchCV\n",
    "import numpy as np\n",
    "import pandas as pd"
   ]
  },
  {
   "cell_type": "code",
   "execution_count": 4,
   "metadata": {},
   "outputs": [],
   "source": [
    "boston = pd.read_csv(\"Boston.csv\")\n",
    "X = boston.drop('medv',axis=1)\n",
    "y = boston['medv']\n",
    "kfold =KFold(n_splits=5, shuffle=True, random_state=23)\n",
    "elastic = ElasticNet()"
   ]
  },
  {
   "cell_type": "code",
   "execution_count": 5,
   "metadata": {},
   "outputs": [
    {
     "name": "stdout",
     "output_type": "stream",
     "text": [
      "{'alpha': 0.1, 'l1_ratio': 0.25}\n",
      "-24.480866946798763\n"
     ]
    }
   ],
   "source": [
    "alphas = [0.1, 0.5, 1, 2, 2.5, 3]\n",
    "l1_rat = [0.1, 0.25, 0.5, 0.8,0.9 ]\n",
    "params = {'alpha':alphas,'l1_ratio':l1_rat}\n",
    "gcv = GridSearchCV(elastic,param_grid=params,cv=kfold, scoring='neg_mean_squared_error')\n",
    "gcv.fit(X,y)\n",
    "print(gcv.best_params_)\n",
    "print(gcv.best_score_)"
   ]
  },
  {
   "cell_type": "code",
   "execution_count": 7,
   "metadata": {},
   "outputs": [],
   "source": [
    "df_cv=pd.DataFrame(gcv.cv_results_)"
   ]
  },
  {
   "cell_type": "code",
   "execution_count": 9,
   "metadata": {},
   "outputs": [
    {
     "name": "stdout",
     "output_type": "stream",
     "text": [
      "{'alpha': 0.001, 'l1_ratio': 0.6313157894736842}\n",
      "-23.471789032710266\n"
     ]
    }
   ],
   "source": [
    "alphas = np.linspace(0.001, 4, 20)\n",
    "l1_rat = np.linspace(0.001, 0.999, 20)\n",
    "params = {'alpha':alphas,'l1_ratio':l1_rat}\n",
    "gcv = GridSearchCV(elastic,param_grid=params,cv=kfold, scoring='neg_mean_squared_error')\n",
    "gcv.fit(X,y)\n",
    "print(gcv.best_params_)\n",
    "print(gcv.best_score_)"
   ]
  }
 ],
 "metadata": {
  "kernelspec": {
   "display_name": "base",
   "language": "python",
   "name": "python3"
  },
  "language_info": {
   "codemirror_mode": {
    "name": "ipython",
    "version": 3
   },
   "file_extension": ".py",
   "mimetype": "text/x-python",
   "name": "python",
   "nbconvert_exporter": "python",
   "pygments_lexer": "ipython3",
   "version": "3.11.4"
  }
 },
 "nbformat": 4,
 "nbformat_minor": 2
}
