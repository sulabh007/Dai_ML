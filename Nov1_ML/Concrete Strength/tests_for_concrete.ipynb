{
 "cells": [
  {
   "cell_type": "code",
   "execution_count": 2,
   "metadata": {},
   "outputs": [],
   "source": [
    "from sklearn.model_selection import KFold, cross_val_score\n",
    "from sklearn.linear_model import ElasticNet\n",
    "from sklearn.model_selection import GridSearchCV\n",
    "import numpy as np\n",
    "import pandas as pd"
   ]
  },
  {
   "cell_type": "code",
   "execution_count": 3,
   "metadata": {},
   "outputs": [],
   "source": [
    "concrete = pd.read_csv(\"Concrete_Data.csv\")\n",
    "X = concrete.drop('Strength',axis=1)\n",
    "y = concrete['Strength']\n",
    "kfold =KFold(n_splits=5, shuffle=True, random_state=23)\n",
    "elastic = ElasticNet()"
   ]
  },
  {
   "cell_type": "code",
   "execution_count": 4,
   "metadata": {},
   "outputs": [
    {
     "name": "stdout",
     "output_type": "stream",
     "text": [
      "{'alpha': 2, 'l1_ratio': 0.1}\n",
      "-109.83545348980824\n"
     ]
    }
   ],
   "source": [
    "alphas = [0.1, 0.5, 1, 2, 2.5, 3]\n",
    "l1_rat = [0.1, 0.25, 0.5, 0.8,0.9 ]\n",
    "params = {'alpha':alphas,'l1_ratio':l1_rat}\n",
    "gcv = GridSearchCV(elastic,param_grid=params,cv=kfold, scoring='neg_mean_squared_error')\n",
    "gcv.fit(X,y)\n",
    "print(gcv.best_params_)\n",
    "print(gcv.best_score_)"
   ]
  },
  {
   "cell_type": "code",
   "execution_count": 5,
   "metadata": {},
   "outputs": [
    {
     "name": "stdout",
     "output_type": "stream",
     "text": [
      "{'alpha': 3.7895263157894736, 'l1_ratio': 0.001}\n",
      "-109.81419916701809\n"
     ]
    }
   ],
   "source": [
    "alphas = np.linspace(0.001, 4, 20)\n",
    "l1_rat = np.linspace(0.001, 0.999, 20)\n",
    "params = {'alpha':alphas,'l1_ratio':l1_rat}\n",
    "gcv = GridSearchCV(elastic,param_grid=params,cv=kfold, scoring='neg_mean_squared_error')\n",
    "gcv.fit(X,y)\n",
    "print(gcv.best_params_)\n",
    "print(gcv.best_score_)"
   ]
  },
  {
   "cell_type": "markdown",
   "metadata": {},
   "source": [
    "Inferencing"
   ]
  },
  {
   "cell_type": "code",
   "execution_count": 6,
   "metadata": {},
   "outputs": [
    {
     "name": "stdout",
     "output_type": "stream",
     "text": [
      "[69.22112987 31.28625017 19.34473305 46.12183815 58.95992943 17.07253149\n",
      " 49.46655713 81.32200657 32.15401694 42.82714224 43.89805858 61.9194148\n",
      " 51.58734337 15.3216856 ]\n"
     ]
    }
   ],
   "source": [
    "best_model = gcv.best_estimator_\n",
    "unlable_data = pd.read_csv(\"testConcrete.csv\")\n",
    "y_pred = best_model.predict(unlable_data)\n",
    "print(y_pred)"
   ]
  },
  {
   "cell_type": "code",
   "execution_count": null,
   "metadata": {},
   "outputs": [],
   "source": []
  }
 ],
 "metadata": {
  "kernelspec": {
   "display_name": "base",
   "language": "python",
   "name": "python3"
  },
  "language_info": {
   "codemirror_mode": {
    "name": "ipython",
    "version": 3
   },
   "file_extension": ".py",
   "mimetype": "text/x-python",
   "name": "python",
   "nbconvert_exporter": "python",
   "pygments_lexer": "ipython3",
   "version": "3.11.5"
  }
 },
 "nbformat": 4,
 "nbformat_minor": 2
}
