{
 "cells": [
  {
   "cell_type": "code",
   "execution_count": 4,
   "metadata": {},
   "outputs": [],
   "source": [
    "from sklearn.model_selection import KFold, cross_val_score\n",
    "from sklearn.linear_model import ElasticNet\n",
    "from sklearn.metrics import mean_squared_error\n",
    "import numpy as np\n",
    "import pandas as pd"
   ]
  },
  {
   "cell_type": "code",
   "execution_count": 5,
   "metadata": {},
   "outputs": [],
   "source": [
    "boston = pd.read_csv(\"Boston.csv\")"
   ]
  },
  {
   "cell_type": "code",
   "execution_count": 6,
   "metadata": {
    "notebookRunGroups": {
     "groupValue": ""
    }
   },
   "outputs": [],
   "source": [
    "X = boston.drop('medv',axis=1)\n",
    "y = boston['medv']"
   ]
  },
  {
   "cell_type": "code",
   "execution_count": 7,
   "metadata": {},
   "outputs": [],
   "source": [
    "from sklearn.metrics import mean_squared_error as mse\n",
    "Kfold =KFold(n_splits=5, shuffle=True, random_state=23)"
   ]
  },
  {
   "cell_type": "code",
   "execution_count": 9,
   "metadata": {},
   "outputs": [
    {
     "name": "stdout",
     "output_type": "stream",
     "text": [
      "for alpha = 0.1 and l1 raito = 0.1 \n",
      " -24.49533743446886\n",
      "for alpha = 0.1 and l1 raito = 0.25 \n",
      " -24.480866946798763\n",
      "for alpha = 0.1 and l1 raito = 0.5 \n",
      " -24.48240120929129\n",
      "for alpha = 0.1 and l1 raito = 0.8 \n",
      " -24.49385149315844\n",
      "for alpha = 0.1 and l1 raito = 0.9 \n",
      " -24.515351262582644\n",
      "for alpha = 0.5 and l1 raito = 0.1 \n",
      " -26.148813907702635\n",
      "for alpha = 0.5 and l1 raito = 0.25 \n",
      " -26.12367400592266\n",
      "for alpha = 0.5 and l1 raito = 0.5 \n",
      " -25.99529990383769\n",
      "for alpha = 0.5 and l1 raito = 0.8 \n",
      " -25.707693403285067\n",
      "for alpha = 0.5 and l1 raito = 0.9 \n",
      " -25.570357850751027\n",
      "for alpha = 1 and l1 raito = 0.1 \n",
      " -27.38195083945281\n",
      "for alpha = 1 and l1 raito = 0.25 \n",
      " -27.465115352499517\n",
      "for alpha = 1 and l1 raito = 0.5 \n",
      " -27.596572300559508\n",
      "for alpha = 1 and l1 raito = 0.8 \n",
      " -27.848956396804873\n",
      "for alpha = 1 and l1 raito = 0.9 \n",
      " -27.98072884758969\n",
      "for alpha = 2 and l1 raito = 0.1 \n",
      " -28.94253914397377\n",
      "for alpha = 2 and l1 raito = 0.25 \n",
      " -29.28913855264803\n",
      "for alpha = 2 and l1 raito = 0.5 \n",
      " -30.159276798874487\n",
      "for alpha = 2 and l1 raito = 0.8 \n",
      " -31.629662155334444\n",
      "for alpha = 2 and l1 raito = 0.9 \n",
      " -32.11169206416838\n",
      "for alpha = 2.5 and l1 raito = 0.1 \n",
      " -29.540456031906352\n",
      "for alpha = 2.5 and l1 raito = 0.25 \n",
      " -30.025900891720596\n",
      "for alpha = 2.5 and l1 raito = 0.5 \n",
      " -31.29343525215927\n",
      "for alpha = 2.5 and l1 raito = 0.8 \n",
      " -33.042125964561066\n",
      "for alpha = 2.5 and l1 raito = 0.9 \n",
      " -33.58069006604146\n",
      "for alpha = 3 and l1 raito = 0.1 \n",
      " -30.07454473892301\n",
      "for alpha = 3 and l1 raito = 0.25 \n",
      " -30.698680017579868\n",
      "for alpha = 3 and l1 raito = 0.5 \n",
      " -32.25388300554735\n",
      "for alpha = 3 and l1 raito = 0.8 \n",
      " -34.121993800025145\n",
      "for alpha = 3 and l1 raito = 0.9 \n",
      " -34.57122662541724\n",
      "\n"
     ]
    },
    {
     "data": {
      "text/plain": [
       "<bound method Series.sort_values of alpha = 0.1,l1_ratio = 0.1    -24.495337\n",
       "alpha = 0.1,l1_ratio = 0.25   -24.480867\n",
       "alpha = 0.1,l1_ratio = 0.5    -24.482401\n",
       "alpha = 0.1,l1_ratio = 0.8    -24.493851\n",
       "alpha = 0.1,l1_ratio = 0.9    -24.515351\n",
       "alpha = 0.5,l1_ratio = 0.1    -26.148814\n",
       "alpha = 0.5,l1_ratio = 0.25   -26.123674\n",
       "alpha = 0.5,l1_ratio = 0.5    -25.995300\n",
       "alpha = 0.5,l1_ratio = 0.8    -25.707693\n",
       "alpha = 0.5,l1_ratio = 0.9    -25.570358\n",
       "alpha = 1,l1_ratio = 0.1      -27.381951\n",
       "alpha = 1,l1_ratio = 0.25     -27.465115\n",
       "alpha = 1,l1_ratio = 0.5      -27.596572\n",
       "alpha = 1,l1_ratio = 0.8      -27.848956\n",
       "alpha = 1,l1_ratio = 0.9      -27.980729\n",
       "alpha = 2,l1_ratio = 0.1      -28.942539\n",
       "alpha = 2,l1_ratio = 0.25     -29.289139\n",
       "alpha = 2,l1_ratio = 0.5      -30.159277\n",
       "alpha = 2,l1_ratio = 0.8      -31.629662\n",
       "alpha = 2,l1_ratio = 0.9      -32.111692\n",
       "alpha = 2.5,l1_ratio = 0.1    -29.540456\n",
       "alpha = 2.5,l1_ratio = 0.25   -30.025901\n",
       "alpha = 2.5,l1_ratio = 0.5    -31.293435\n",
       "alpha = 2.5,l1_ratio = 0.8    -33.042126\n",
       "alpha = 2.5,l1_ratio = 0.9    -33.580690\n",
       "alpha = 3,l1_ratio = 0.1      -30.074545\n",
       "alpha = 3,l1_ratio = 0.25     -30.698680\n",
       "alpha = 3,l1_ratio = 0.5      -32.253883\n",
       "alpha = 3,l1_ratio = 0.8      -34.121994\n",
       "alpha = 3,l1_ratio = 0.9      -34.571227\n",
       "dtype: float64>"
      ]
     },
     "execution_count": 9,
     "metadata": {},
     "output_type": "execute_result"
    }
   ],
   "source": [
    "alpha = [0.1, 0.5, 1, 2, 2.5, 3]\n",
    "l1_rat = [0.1, 0.25, 0.5, 0.8,0.9 ]\n",
    "errors = dict()\n",
    "for a in alpha:\n",
    "    for l in l1_rat:\n",
    "        elastic = ElasticNet(alpha=a,l1_ratio=l)\n",
    "        elastic.fit(X,y)\n",
    "        y_pred = elastic.predict(X)\n",
    "        results = cross_val_score(elastic, X, y, cv=Kfold, scoring='neg_mean_squared_error')\n",
    "        errors['alpha = '+str(a)+\",l1_ratio = \"+ str(l)]=results.mean()\n",
    "        print(\"for alpha =\",a,\"and l1 raito =\",l,\"\\n\",results.mean())\n",
    "\n",
    "print()\n",
    "er_pd=pd.Series(errors)\n",
    "er_pd.sort_values"
   ]
  }
 ],
 "metadata": {
  "kernelspec": {
   "display_name": "base",
   "language": "python",
   "name": "python3"
  },
  "language_info": {
   "codemirror_mode": {
    "name": "ipython",
    "version": 3
   },
   "file_extension": ".py",
   "mimetype": "text/x-python",
   "name": "python",
   "nbconvert_exporter": "python",
   "pygments_lexer": "ipython3",
   "version": "3.11.4"
  }
 },
 "nbformat": 4,
 "nbformat_minor": 2
}
