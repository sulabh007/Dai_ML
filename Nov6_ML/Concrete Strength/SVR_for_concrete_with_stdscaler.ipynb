{
 "cells": [
  {
   "cell_type": "code",
   "execution_count": null,
   "metadata": {},
   "outputs": [],
   "source": [
    "from sklearn.model_selection import KFold, cross_val_score\n",
    "from sklearn.linear_model import ElasticNet\n",
    "from sklearn.model_selection import GridSearchCV\n",
    "import numpy as np\n",
    "import pandas as pd"
   ]
  },
  {
   "cell_type": "code",
   "execution_count": null,
   "metadata": {},
   "outputs": [],
   "source": [
    "from sklearn.discriminant_analysis import StandardScaler\n",
    "\n",
    "\n",
    "concrete = pd.read_csv(\"Concrete_Data.csv\")\n",
    "X = concrete.drop('Strength',axis=1)\n",
    "y = concrete[['Strength']]\n",
    "kfold =KFold(n_splits=5, shuffle=True, random_state=23)\n",
    "\n",
    "scaler_y = StandardScaler()\n",
    "y_scl = scaler_y.fit_transform(y)"
   ]
  },
  {
   "cell_type": "code",
   "execution_count": null,
   "metadata": {},
   "outputs": [],
   "source": [
    "from sklearn.svm import SVR\n",
    "\n",
    "\n",
    "svr = SVR()\n",
    "kernel = ['linear']\n",
    "params = {'C':np.linspace(0.001,5,10),'kernel':kernel,'epsilon':np.linspace(0.001,5,10)}\n",
    "gcv = GridSearchCV(svr, param_grid=params, cv=kfold, verbose=3)\n",
    "gcv.fit(X,y_scl[:,0])\n",
    "print(gcv.best_params_)\n",
    "print(gcv.best_score_)"
   ]
  },
  {
   "cell_type": "code",
   "execution_count": null,
   "metadata": {},
   "outputs": [],
   "source": [
    "kernel = ['rbf']\n",
    "epsilon = np.linspace(0.001,5,10)\n",
    "params = {'C':np.linspace(0.001,5,10),'kernel':kernel,'epsilon':epsilon}\n",
    "gcv = GridSearchCV(svr, param_grid=params, cv=kfold, verbose=3)\n",
    "gcv.fit(X,y_scl[:,0])\n",
    "print(gcv.best_params_)\n",
    "print(gcv.best_score_)"
   ]
  },
  {
   "cell_type": "code",
   "execution_count": null,
   "metadata": {},
   "outputs": [],
   "source": [
    "from sklearn.pipeline import Pipeline\n",
    "from sklearn.preprocessing import MinMaxScaler\n",
    "\n",
    "pipe = Pipeline([('SCL',StandardScaler()),('SVR',svr)])\n",
    "kernel = ['linear']\n",
    "epsilon = np.linspace(0.001,5,10)\n",
    "params = {'SVR__C':np.linspace(0.001,5,10),'SVR__kernel':kernel,'SVR__epsilon':epsilon,'SCL':[StandardScaler(),MinMaxScaler()]}\n",
    "gcv = GridSearchCV(pipe, param_grid=params, cv=kfold, verbose=3)\n",
    "gcv.fit(X,y_scl[:,0])\n",
    "print(gcv.best_params_)\n",
    "print(gcv.best_score_)"
   ]
  },
  {
   "cell_type": "code",
   "execution_count": null,
   "metadata": {},
   "outputs": [],
   "source": [
    "from sklearn.pipeline import Pipeline\n",
    "from sklearn.preprocessing import MinMaxScaler\n",
    "\n",
    "pipe = Pipeline([('SCL',StandardScaler()),('SVR',svr)])\n",
    "kernel = ['rbf']\n",
    "epsilon = np.linspace(0.001,5,10)\n",
    "params = {'SVR__C':np.linspace(0.001,5,10),'SVR__kernel':kernel,'SVR__epsilon':epsilon,'SCL':[StandardScaler(),MinMaxScaler()]}\n",
    "gcv = GridSearchCV(pipe, param_grid=params, cv=kfold, verbose=3)\n",
    "gcv.fit(X,y_scl[:,0])\n",
    "print(gcv.best_params_)\n",
    "print(gcv.best_score_)"
   ]
  }
 ],
 "metadata": {
  "kernelspec": {
   "display_name": "base",
   "language": "python",
   "name": "python3"
  },
  "language_info": {
   "codemirror_mode": {
    "name": "ipython",
    "version": 3
   },
   "file_extension": ".py",
   "mimetype": "text/x-python",
   "name": "python",
   "nbconvert_exporter": "python",
   "pygments_lexer": "ipython3",
   "version": "3.11.5"
  }
 },
 "nbformat": 4,
 "nbformat_minor": 2
}
