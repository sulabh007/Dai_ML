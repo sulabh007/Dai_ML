{
 "cells": [
  {
   "cell_type": "code",
   "execution_count": 16,
   "metadata": {},
   "outputs": [],
   "source": [
    "from sklearn.model_selection import train_test_split\n",
    "from sklearn.linear_model import LinearRegression\n",
    "from sklearn.tree import DecisionTreeRegressor\n",
    "from sklearn.metrics import mean_squared_error\n",
    "import numpy as np\n",
    "import pandas as pd"
   ]
  },
  {
   "cell_type": "code",
   "execution_count": 17,
   "metadata": {},
   "outputs": [],
   "source": [
    "housing = pd.read_csv(\"Housing.csv\")\n",
    "housing = pd.get_dummies(housing,drop_first=True, columns=['driveway', 'recroom','fullbase','gashw','airco','prefarea'])"
   ]
  },
  {
   "cell_type": "code",
   "execution_count": 18,
   "metadata": {},
   "outputs": [],
   "source": [
    "lr = LinearRegression()\n",
    "dtr = DecisionTreeRegressor(random_state=23)\n",
    "x = housing.drop('price',axis=1)\n",
    "y = housing['price']"
   ]
  },
  {
   "cell_type": "code",
   "execution_count": 19,
   "metadata": {},
   "outputs": [],
   "source": [
    "train, test = train_test_split(housing, test_size=0.3, random_state=23)\n",
    "\n",
    "X_train = train.drop('price',axis=1)\n",
    "y_train =train['price']\n",
    "X_test = test.drop('price',axis=1)\n",
    "y_test= test['price']"
   ]
  },
  {
   "cell_type": "code",
   "execution_count": 20,
   "metadata": {},
   "outputs": [
    {
     "name": "stdout",
     "output_type": "stream",
     "text": [
      "222913438.28557727\n"
     ]
    }
   ],
   "source": [
    "lr.fit(X_train,y_train)\n",
    "#print(lr.coef_)\n",
    "y_pred = lr.predict(X_test)\n",
    "#print(np.mean(y_test-y_pred)**2)\n",
    "print(mean_squared_error(y_test,y_pred))"
   ]
  },
  {
   "cell_type": "code",
   "execution_count": 21,
   "metadata": {},
   "outputs": [
    {
     "name": "stdout",
     "output_type": "stream",
     "text": [
      "526063340.7865854\n"
     ]
    }
   ],
   "source": [
    "dtr.fit(X_train,y_train)\n",
    "\n",
    "y_pred = dtr.predict(X_test)\n",
    "print(mean_squared_error(y_test,y_pred))"
   ]
  }
 ],
 "metadata": {
  "kernelspec": {
   "display_name": "base",
   "language": "python",
   "name": "python3"
  },
  "language_info": {
   "codemirror_mode": {
    "name": "ipython",
    "version": 3
   },
   "file_extension": ".py",
   "mimetype": "text/x-python",
   "name": "python",
   "nbconvert_exporter": "python",
   "pygments_lexer": "ipython3",
   "version": "3.11.4"
  }
 },
 "nbformat": 4,
 "nbformat_minor": 2
}
