{
 "cells": [
  {
   "cell_type": "code",
   "execution_count": 28,
   "metadata": {},
   "outputs": [],
   "source": [
    "from sklearn.model_selection import KFold, train_test_split\n",
    "from sklearn.pipeline import Pipeline\n",
    "from sklearn.neighbors import KNeighborsRegressor\n",
    "from sklearn.metrics import r2_score\n",
    "from sklearn.model_selection import GridSearchCV\n",
    "from sklearn.linear_model import ElasticNet\n",
    "from sklearn.metrics import accuracy_score\n",
    "from sklearn.metrics import log_loss\n",
    "from sklearn.preprocessing import StandardScaler, MinMaxScaler\n",
    "import numpy as np\n",
    "import pandas as pd"
   ]
  },
  {
   "cell_type": "code",
   "execution_count": 29,
   "metadata": {},
   "outputs": [],
   "source": [
    "\n",
    "insurance = pd.read_csv(\"insurance.csv\")\n",
    "dum_insurance = pd.get_dummies(insurance,drop_first=True)\n",
    "X = dum_insurance.drop('charges',axis=1)\n",
    "y = dum_insurance['charges']\n",
    "kfold =KFold(n_splits=5, shuffle=True, random_state=23)\n",
    "elastic = ElasticNet()\n",
    "knn = KNeighborsRegressor()"
   ]
  },
  {
   "cell_type": "code",
   "execution_count": 30,
   "metadata": {},
   "outputs": [],
   "source": [
    "X_train, X_test, y_train, y_test = train_test_split(X, y, test_size=0.3, random_state=23)"
   ]
  },
  {
   "cell_type": "code",
   "execution_count": 40,
   "metadata": {},
   "outputs": [
    {
     "name": "stdout",
     "output_type": "stream",
     "text": [
      "{'alpha': 0.6324210526315789, 'l1_ratio': 0.999}\n",
      "0.7472365796783413\n"
     ]
    }
   ],
   "source": [
    "scaler = StandardScaler()\n",
    "\n",
    "alphas = np.linspace(0.001, 4, 20)\n",
    "l1_rat = np.linspace(0.001, 0.999, 20)\n",
    "pipe = Pipeline([('alpha',alphas),('l1_ratio',l1_rat),('elastic',elastic)])\n",
    "params = {'alpha':alphas,'l1_ratio':l1_rat}\n",
    "gcv = GridSearchCV(elastic,param_grid=params,cv=kfold, scoring='r2')\n",
    "gcv.fit(X,y)\n",
    "print(gcv.best_params_)\n",
    "print(gcv.best_score_)"
   ]
  },
  {
   "cell_type": "code",
   "execution_count": 35,
   "metadata": {},
   "outputs": [
    {
     "name": "stdout",
     "output_type": "stream",
     "text": [
      "0.8481055292723975\n"
     ]
    }
   ],
   "source": [
    "scaler = StandardScaler()\n",
    "knn = KNeighborsRegressor(n_neighbors=6)\n",
    "pipe = Pipeline([('SCL',scaler),('KNN',knn)])\n",
    "\n",
    "pipe.fit(X,y)\n",
    "y_pred = pipe.predict(X_test)\n",
    "print(r2_score(y_test,y_pred))"
   ]
  },
  {
   "cell_type": "code",
   "execution_count": 34,
   "metadata": {},
   "outputs": [
    {
     "name": "stdout",
     "output_type": "stream",
     "text": [
      "<bound method Pipeline.get_params of Pipeline(steps=[('SCL', StandardScaler()),\n",
      "                ('KNN', KNeighborsRegressor(n_neighbors=6))])>\n",
      "{'KNN__n_neighbors': 6, 'SCL': StandardScaler()}\n",
      "0.7929593107756748\n"
     ]
    }
   ],
   "source": [
    "\n",
    "from sklearn.model_selection import GridSearchCV\n",
    "\n",
    "\n",
    "kfold=KFold(n_splits=5, shuffle=True, random_state=23)\n",
    "\n",
    "n_neighbors = np.arange(1,21)\n",
    "print(pipe.get_params)\n",
    "params = {'KNN__n_neighbors':n_neighbors,'SCL':[StandardScaler(),MinMaxScaler()]}\n",
    "gcv = GridSearchCV(pipe,param_grid=params,cv=kfold,scoring='r2')\n",
    "gcv.fit(X,y)\n",
    "print(gcv.best_params_)\n",
    "print(gcv.best_score_)"
   ]
  }
 ],
 "metadata": {
  "kernelspec": {
   "display_name": "base",
   "language": "python",
   "name": "python3"
  },
  "language_info": {
   "codemirror_mode": {
    "name": "ipython",
    "version": 3
   },
   "file_extension": ".py",
   "mimetype": "text/x-python",
   "name": "python",
   "nbconvert_exporter": "python",
   "pygments_lexer": "ipython3",
   "version": "3.11.5"
  }
 },
 "nbformat": 4,
 "nbformat_minor": 2
}
