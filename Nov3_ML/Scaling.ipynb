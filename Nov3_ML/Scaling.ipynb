{
 "cells": [
  {
   "cell_type": "code",
   "execution_count": 1,
   "metadata": {},
   "outputs": [],
   "source": [
    "import numpy as np"
   ]
  },
  {
   "cell_type": "code",
   "execution_count": 2,
   "metadata": {},
   "outputs": [],
   "source": [
    "x_trn = np.array([[24000, 8],\n",
    "                  [30000, 2],\n",
    "                  [35000, 7],\n",
    "                  [34500, 1],])\n",
    "\n",
    "x_tst = np.array([[34000, 1],\n",
    "                  [12000, 1]])"
   ]
  },
  {
   "cell_type": "markdown",
   "metadata": {},
   "source": [
    "####Standard Scaling"
   ]
  },
  {
   "cell_type": "code",
   "execution_count": 6,
   "metadata": {},
   "outputs": [
    {
     "name": "stdout",
     "output_type": "stream",
     "text": [
      "0.0 1.0\n",
      "0.0 1.0\n"
     ]
    }
   ],
   "source": [
    "\n",
    "col1 = x_trn[:,0]\n",
    "trf_col1 = (col1 - col1.mean())/np.std(col1)\n",
    "print(np.mean(trf_col1),np.std(trf_col1))\n",
    "\n",
    "col2 = x_trn[:,1]\n",
    "trf_col2 = (col2 - col2.mean())/np.std(col2)\n",
    "print(np.mean(trf_col2),np.std(trf_col2))"
   ]
  },
  {
   "cell_type": "markdown",
   "metadata": {},
   "source": [
    "###All columns at once"
   ]
  },
  {
   "cell_type": "code",
   "execution_count": 4,
   "metadata": {},
   "outputs": [
    {
     "name": "stdout",
     "output_type": "stream",
     "text": [
      "[[-1.55501304  1.15079291]\n",
      " [-0.19791075 -0.82199494]\n",
      " [ 0.93300782  0.82199494]\n",
      " [ 0.81991597 -1.15079291]]\n"
     ]
    }
   ],
   "source": [
    "means = x_trn.mean(axis=0)\n",
    "stds = x_trn.std(axis=0)\n",
    "print((x_trn-means)/stds)"
   ]
  },
  {
   "cell_type": "markdown",
   "metadata": {},
   "source": [
    "for test data"
   ]
  },
  {
   "cell_type": "code",
   "execution_count": 7,
   "metadata": {},
   "outputs": [
    {
     "name": "stdout",
     "output_type": "stream",
     "text": [
      "[[ 0.70682411 -1.15079291]\n",
      " [-4.26921761 -1.15079291]]\n"
     ]
    }
   ],
   "source": [
    "print((x_tst-means)/stds)"
   ]
  },
  {
   "cell_type": "code",
   "execution_count": 9,
   "metadata": {},
   "outputs": [
    {
     "name": "stdout",
     "output_type": "stream",
     "text": [
      "[[-1.55501304  1.15079291]\n",
      " [-0.19791075 -0.82199494]\n",
      " [ 0.93300782  0.82199494]\n",
      " [ 0.81991597 -1.15079291]]\n",
      "[[ 0.70682411 -1.15079291]\n",
      " [-4.26921761 -1.15079291]]\n",
      "[3.0875e+04 4.5000e+00]\n",
      "[4.42118480e+03 3.04138127e+00]\n"
     ]
    }
   ],
   "source": [
    "from sklearn.discriminant_analysis import StandardScaler\n",
    "\n",
    "\n",
    "scaler = StandardScaler()\n",
    "print(scaler.fit_transform(x_trn))\n",
    "print(scaler.transform(x_tst))\n",
    "print(scaler.mean_)\n",
    "print(scaler.scale_)"
   ]
  },
  {
   "cell_type": "code",
   "execution_count": null,
   "metadata": {},
   "outputs": [],
   "source": []
  }
 ],
 "metadata": {
  "kernelspec": {
   "display_name": "base",
   "language": "python",
   "name": "python3"
  },
  "language_info": {
   "codemirror_mode": {
    "name": "ipython",
    "version": 3
   },
   "file_extension": ".py",
   "mimetype": "text/x-python",
   "name": "python",
   "nbconvert_exporter": "python",
   "pygments_lexer": "ipython3",
   "version": "3.11.5"
  }
 },
 "nbformat": 4,
 "nbformat_minor": 2
}
