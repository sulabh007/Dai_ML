{
 "cells": [
  {
   "cell_type": "code",
   "execution_count": 1,
   "metadata": {},
   "outputs": [],
   "source": [
    "from sklearn.neighbors import KNeighborsClassifier\n",
    "from sklearn.preprocessing import MinMaxScaler\n",
    "from sklearn.model_selection import train_test_split\n",
    "from sklearn.metrics import log_loss, accuracy_score\n",
    "from sklearn.preprocessing import LabelEncoder\n",
    "from sklearn.pipeline import Pipeline\n",
    "import numpy as np\n",
    "import pandas as pd\n",
    "# from warnings import simplefilter\n",
    "# from sklearn.exceptions import ConvergenceWarning\n",
    "# simplefilter(\"ignore\", category=ConvergenceWarning)"
   ]
  },
  {
   "cell_type": "code",
   "execution_count": 2,
   "metadata": {},
   "outputs": [],
   "source": [
    "img = pd.read_csv('Image_Segmention.csv')\n",
    "#Label Encoding\n",
    "lbl = LabelEncoder()"
   ]
  },
  {
   "cell_type": "code",
   "execution_count": 3,
   "metadata": {},
   "outputs": [],
   "source": [
    "from sklearn.preprocessing import MinMaxScaler\n",
    "\n",
    "\n",
    "img['Class'] = lbl.fit_transform(img['Class'])\n",
    "\n",
    "X = img.drop('Class',axis=1)\n",
    "y = img['Class']\n",
    "X_train, X_test, y_train, y_test = train_test_split(X, y, test_size=0.3, random_state=23, stratify=y)\n",
    "scaler = MinMaxScaler()\n",
    "knn = KNeighborsClassifier(n_neighbors=1)\n",
    "pipe = Pipeline([('SCL',scaler),('KNN',knn)])"
   ]
  },
  {
   "cell_type": "code",
   "execution_count": 4,
   "metadata": {},
   "outputs": [
    {
     "name": "stdout",
     "output_type": "stream",
     "text": [
      "0.8253968253968254\n",
      "6.29333630603633\n"
     ]
    }
   ],
   "source": [
    "pipe.fit(X_train,y_train)\n",
    "y_pred = pipe.predict(X_test)\n",
    "print(accuracy_score(y_test, y_pred))\n",
    "y_pred_prob = pipe.predict_proba(X_test)\n",
    "print(log_loss(y_test, y_pred_prob))"
   ]
  },
  {
   "cell_type": "code",
   "execution_count": 11,
   "metadata": {},
   "outputs": [
    {
     "name": "stdout",
     "output_type": "stream",
     "text": [
      "0.8571428571428571\n",
      "5.149093341302452\n"
     ]
    }
   ],
   "source": [
    "X_scl_trn = scaler.fit_transform(X_train)\n",
    "X_scl_tst = scaler.fit_transform(X_test)\n",
    "knn = KNeighborsClassifier(n_neighbors=1)\n",
    "knn.fit(X_scl_trn,y_train)\n",
    "y_pred = knn.predict(X_scl_tst)\n",
    "print(accuracy_score(y_test, y_pred))\n",
    "y_pred_prob = knn.predict_proba(X_scl_tst)\n",
    "print(log_loss(y_test, y_pred_prob))"
   ]
  },
  {
   "cell_type": "code",
   "execution_count": 9,
   "metadata": {},
   "outputs": [
    {
     "name": "stdout",
     "output_type": "stream",
     "text": [
      "<bound method Pipeline.get_params of Pipeline(steps=[('SCL', MinMaxScaler()),\n",
      "                ('KNN', KNeighborsClassifier(n_neighbors=1))])>\n",
      "{'KNN__n_neighbors': 14, 'SCL': StandardScaler()}\n",
      "-0.8271460539588433\n"
     ]
    }
   ],
   "source": [
    "from sklearn.discriminant_analysis import StandardScaler\n",
    "from sklearn.model_selection import GridSearchCV\n",
    "from sklearn.model_selection import StratifiedKFold\n",
    "\n",
    "kfold=StratifiedKFold(n_splits=5, shuffle=True, random_state=23)\n",
    "knn = KNeighborsClassifier()\n",
    "n_neighbors = np.arange(1,21)\n",
    "print(pipe.get_params)\n",
    "params = {'KNN__n_neighbors':n_neighbors,'SCL':[StandardScaler(),MinMaxScaler()]}\n",
    "gcv = GridSearchCV(pipe,param_grid=params,cv=kfold,scoring='neg_log_loss')\n",
    "gcv.fit(X_train,y_train)\n",
    "print(gcv.best_params_)\n",
    "print(gcv.best_score_)"
   ]
  },
  {
   "cell_type": "code",
   "execution_count": 10,
   "metadata": {},
   "outputs": [
    {
     "name": "stdout",
     "output_type": "stream",
     "text": [
      "<bound method Pipeline.get_params of Pipeline(steps=[('SCL', MinMaxScaler()),\n",
      "                ('KNN', KNeighborsClassifier(n_neighbors=1))])>\n",
      "{'KNN__n_neighbors': 1, 'SCL': MinMaxScaler()}\n",
      "0.863448275862069\n"
     ]
    }
   ],
   "source": [
    "from sklearn.model_selection import GridSearchCV\n",
    "from sklearn.model_selection import StratifiedKFold\n",
    "\n",
    "kfold=StratifiedKFold(n_splits=5, shuffle=True, random_state=23)\n",
    "knn = KNeighborsClassifier()\n",
    "n_neighbors = np.arange(1,21)\n",
    "print(pipe.get_params)\n",
    "params = {'KNN__n_neighbors':n_neighbors,'SCL':[StandardScaler(),MinMaxScaler()]}\n",
    "gcv = GridSearchCV(pipe,param_grid=params,cv=kfold,scoring='accuracy')\n",
    "gcv.fit(X_train,y_train)\n",
    "print(gcv.best_params_)\n",
    "print(gcv.best_score_)"
   ]
  }
 ],
 "metadata": {
  "kernelspec": {
   "display_name": "base",
   "language": "python",
   "name": "python3"
  },
  "language_info": {
   "codemirror_mode": {
    "name": "ipython",
    "version": 3
   },
   "file_extension": ".py",
   "mimetype": "text/x-python",
   "name": "python",
   "nbconvert_exporter": "python",
   "pygments_lexer": "ipython3",
   "version": "3.11.5"
  }
 },
 "nbformat": 4,
 "nbformat_minor": 2
}
